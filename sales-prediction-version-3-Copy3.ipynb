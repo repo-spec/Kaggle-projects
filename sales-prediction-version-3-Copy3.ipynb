{
 "cells": [
  {
   "cell_type": "code",
   "execution_count": 1,
   "id": "77e3e07f",
   "metadata": {},
   "outputs": [
    {
     "name": "stdout",
     "output_type": "stream",
     "text": [
      "Requirement already satisfied: CatBoost in c:\\users\\krishna kumar\\anaconda3\\lib\\site-packages (1.2.7)\n",
      "Requirement already satisfied: numpy<2.0,>=1.16.0 in c:\\users\\krishna kumar\\anaconda3\\lib\\site-packages (from CatBoost) (1.23.5)\n",
      "Requirement already satisfied: six in c:\\users\\krishna kumar\\anaconda3\\lib\\site-packages (from CatBoost) (1.16.0)\n",
      "Requirement already satisfied: pandas>=0.24 in c:\\users\\krishna kumar\\anaconda3\\lib\\site-packages (from CatBoost) (1.5.3)\n",
      "Requirement already satisfied: plotly in c:\\users\\krishna kumar\\anaconda3\\lib\\site-packages (from CatBoost) (5.9.0)\n",
      "Requirement already satisfied: graphviz in c:\\users\\krishna kumar\\anaconda3\\lib\\site-packages (from CatBoost) (0.20.3)\n",
      "Requirement already satisfied: scipy in c:\\users\\krishna kumar\\anaconda3\\lib\\site-packages (from CatBoost) (1.10.0)\n",
      "Requirement already satisfied: matplotlib in c:\\users\\krishna kumar\\anaconda3\\lib\\site-packages (from CatBoost) (3.7.0)\n",
      "Requirement already satisfied: python-dateutil>=2.8.1 in c:\\users\\krishna kumar\\anaconda3\\lib\\site-packages (from pandas>=0.24->CatBoost) (2.8.2)\n",
      "Requirement already satisfied: pytz>=2020.1 in c:\\users\\krishna kumar\\anaconda3\\lib\\site-packages (from pandas>=0.24->CatBoost) (2022.7)\n",
      "Requirement already satisfied: packaging>=20.0 in c:\\users\\krishna kumar\\anaconda3\\lib\\site-packages (from matplotlib->CatBoost) (22.0)\n",
      "Requirement already satisfied: pyparsing>=2.3.1 in c:\\users\\krishna kumar\\anaconda3\\lib\\site-packages (from matplotlib->CatBoost) (3.0.9)\n",
      "Requirement already satisfied: fonttools>=4.22.0 in c:\\users\\krishna kumar\\anaconda3\\lib\\site-packages (from matplotlib->CatBoost) (4.25.0)\n",
      "Requirement already satisfied: pillow>=6.2.0 in c:\\users\\krishna kumar\\anaconda3\\lib\\site-packages (from matplotlib->CatBoost) (9.4.0)\n",
      "Requirement already satisfied: kiwisolver>=1.0.1 in c:\\users\\krishna kumar\\anaconda3\\lib\\site-packages (from matplotlib->CatBoost) (1.4.4)\n",
      "Requirement already satisfied: cycler>=0.10 in c:\\users\\krishna kumar\\anaconda3\\lib\\site-packages (from matplotlib->CatBoost) (0.11.0)\n",
      "Requirement already satisfied: contourpy>=1.0.1 in c:\\users\\krishna kumar\\anaconda3\\lib\\site-packages (from matplotlib->CatBoost) (1.0.5)\n",
      "Requirement already satisfied: tenacity>=6.2.0 in c:\\users\\krishna kumar\\anaconda3\\lib\\site-packages (from plotly->CatBoost) (8.5.0)\n"
     ]
    }
   ],
   "source": [
    "!pip install CatBoost"
   ]
  },
  {
   "cell_type": "code",
   "execution_count": 2,
   "id": "c9ecddb4-efc3-4d8c-b13c-1274029bc832",
   "metadata": {
    "execution": {
     "iopub.execute_input": "2025-02-07T13:14:15.489021Z",
     "iopub.status.busy": "2025-02-07T13:14:15.488379Z",
     "iopub.status.idle": "2025-02-07T13:14:15.942770Z",
     "shell.execute_reply": "2025-02-07T13:14:15.941614Z",
     "shell.execute_reply.started": "2025-02-07T13:14:15.488952Z"
    }
   },
   "outputs": [
    {
     "name": "stdout",
     "output_type": "stream",
     "text": [
      "/kaggle/input/rohlik-sales-forecasting-challenge-v2/calendar.csv\n",
      "/kaggle/input/rohlik-sales-forecasting-challenge-v2/test_weights.csv\n",
      "/kaggle/input/rohlik-sales-forecasting-challenge-v2/inventory.csv\n",
      "/kaggle/input/rohlik-sales-forecasting-challenge-v2/sales_train.csv\n",
      "/kaggle/input/rohlik-sales-forecasting-challenge-v2/sales_test.csv\n",
      "/kaggle/input/rohlik-sales-forecasting-challenge-v2/solution.csv\n"
     ]
    }
   ],
   "source": [
    "# This Python 3 environment comes with many helpful analytics libraries installed\n",
    "# It is defined by the kaggle/python Docker image: https://github.com/kaggle/docker-python\n",
    "# For example, here's several helpful packages to load\n",
    "\n",
    "import numpy as np # linear algebra\n",
    "import pandas as pd # data processing, CSV file I/O (e.g. pd.read_csv)\n",
    "\n",
    "# Input data files are available in the read-only \"../input/\" directory\n",
    "# For example, running this (by clicking run or pressing Shift+Enter) will list all files under the input directory\n",
    "\n",
    "import os\n",
    "for dirname, _, filenames in os.walk('/kaggle/input'):\n",
    "    for filename in filenames:\n",
    "        print(os.path.join(dirname, filename))\n",
    "\n",
    "# You can write up to 20GB to the current directory (/kaggle/working/) that gets preserved as output when you create a version using \"Save & Run All\" \n",
    "# You can also write temporary files to /kaggle/temp/, but they won't be saved outside of the current session"
   ]
  },
  {
   "cell_type": "code",
   "execution_count": 2,
   "id": "dea84ee1",
   "metadata": {
    "execution": {
     "iopub.execute_input": "2025-02-07T13:14:19.216380Z",
     "iopub.status.busy": "2025-02-07T13:14:19.215845Z",
     "iopub.status.idle": "2025-02-07T13:14:25.195667Z",
     "shell.execute_reply": "2025-02-07T13:14:25.194663Z",
     "shell.execute_reply.started": "2025-02-07T13:14:19.216349Z"
    }
   },
   "outputs": [],
   "source": [
    "import warnings\n",
    "warnings.filterwarnings(\"ignore\")\n",
    "import pandas as pd\n",
    "import numpy as np\n",
    "from matplotlib import pyplot as plt\n",
    "import plotly.offline as pyo\n",
    "import plotly.express as px\n",
    "import seaborn as sns\n",
    "from sklearn.model_selection import train_test_split,KFold\n",
    "from catboost import CatBoostRegressor\n",
    "import xgboost as xgb\n",
    "from xgboost import XGBRegressor\n",
    "from sklearn.preprocessing import LabelEncoder\n",
    "from sklearn.metrics import mean_absolute_error\n",
    "import lightgbm as lgb"
   ]
  },
  {
   "cell_type": "code",
   "execution_count": 4,
   "id": "a9934c0f",
   "metadata": {
    "execution": {
     "iopub.execute_input": "2025-02-07T13:14:30.155865Z",
     "iopub.status.busy": "2025-02-07T13:14:30.155101Z",
     "iopub.status.idle": "2025-02-07T13:14:38.932540Z",
     "shell.execute_reply": "2025-02-07T13:14:38.931174Z",
     "shell.execute_reply.started": "2025-02-07T13:14:30.155830Z"
    }
   },
   "outputs": [],
   "source": [
    "train=pd.read_csv(\"/kaggle/input/rohlik-sales-forecasting-challenge-v2/sales_train.csv\")\n",
    "test=pd.read_csv(\"/kaggle/input/rohlik-sales-forecasting-challenge-v2/sales_test.csv\")\n",
    "calendar=pd.read_csv(\"/kaggle/input/rohlik-sales-forecasting-challenge-v2/calendar.csv\")\n",
    "inventory=pd.read_csv(\"/kaggle/input/rohlik-sales-forecasting-challenge-v2/inventory.csv\")\n"
   ]
  },
  {
   "cell_type": "code",
   "execution_count": 3,
   "id": "971f8837",
   "metadata": {},
   "outputs": [],
   "source": [
    "train=pd.read_csv(\"D:\\Kaggle competition\\Rohlik Sales Prediction\\sales_train.csv\")\n",
    "test=pd.read_csv(\"D:\\Kaggle competition\\Rohlik Sales Prediction\\sales_test.csv\")\n",
    "calendar=pd.read_csv(\"D:\\Kaggle competition\\Rohlik Sales Prediction\\calendar.csv\")\n",
    "inventory=pd.read_csv(\"D:\\Kaggle competition\\Rohlik Sales Prediction\\inventory.csv\")"
   ]
  },
  {
   "cell_type": "markdown",
   "id": "2aa341a6",
   "metadata": {},
   "source": [
    "## Data check"
   ]
  },
  {
   "cell_type": "code",
   "execution_count": 4,
   "id": "1364b9a2",
   "metadata": {
    "execution": {
     "iopub.execute_input": "2025-02-07T13:14:53.303783Z",
     "iopub.status.busy": "2025-02-07T13:14:53.303412Z",
     "iopub.status.idle": "2025-02-07T13:14:53.310033Z",
     "shell.execute_reply": "2025-02-07T13:14:53.308915Z",
     "shell.execute_reply.started": "2025-02-07T13:14:53.303752Z"
    }
   },
   "outputs": [],
   "source": [
    "def data_check_train():\n",
    "    print('Train\\n',train.head())\n",
    "    print('Train info\\n',train.info())\n",
    "    print('Train shape\\n',train.shape)\n",
    "def data_check_test():\n",
    "    print('Test\\n',test.head())\n",
    "    print('Test info\\n',test.info())\n",
    "    print('Test shape\\n',test.shape)\n",
    "def data_check_calendar():\n",
    "    print('Calendar\\n',calendar.head())\n",
    "    print('Calendar info\\n',calendar.info())\n",
    "    print('Calendar shape\\n',calendar.shape)\n",
    "def data_check_inventory():\n",
    "    print('Inventory\\n',inventory.head())\n",
    "    print('Inventory info\\n',inventory.info())\n",
    "    print('Inventory shape\\n',inventory.shape)"
   ]
  },
  {
   "cell_type": "code",
   "execution_count": 7,
   "id": "3a6cbb19",
   "metadata": {
    "execution": {
     "iopub.execute_input": "2025-02-07T10:54:08.614691Z",
     "iopub.status.busy": "2025-02-07T10:54:08.614299Z",
     "iopub.status.idle": "2025-02-07T10:54:08.660218Z",
     "shell.execute_reply": "2025-02-07T10:54:08.659157Z",
     "shell.execute_reply.started": "2025-02-07T10:54:08.614658Z"
    }
   },
   "outputs": [
    {
     "name": "stdout",
     "output_type": "stream",
     "text": [
      "Train\n",
      "    unique_id        date   warehouse  total_orders  sales  sell_price_main  \\\n",
      "0       4845  2024-03-10  Budapest_1        6436.0  16.34           646.26   \n",
      "1       4845  2021-05-25  Budapest_1        4663.0  12.63           455.96   \n",
      "2       4845  2021-12-20  Budapest_1        6507.0  34.55           455.96   \n",
      "3       4845  2023-04-29  Budapest_1        5463.0  34.52           646.26   \n",
      "4       4845  2022-04-01  Budapest_1        5997.0  35.92           486.41   \n",
      "\n",
      "   availability  type_0_discount  type_1_discount  type_2_discount  \\\n",
      "0          1.00          0.00000              0.0              0.0   \n",
      "1          1.00          0.00000              0.0              0.0   \n",
      "2          1.00          0.00000              0.0              0.0   \n",
      "3          0.96          0.20024              0.0              0.0   \n",
      "4          1.00          0.00000              0.0              0.0   \n",
      "\n",
      "   type_3_discount  type_4_discount  type_5_discount  type_6_discount  \n",
      "0              0.0          0.15312              0.0              0.0  \n",
      "1              0.0          0.15025              0.0              0.0  \n",
      "2              0.0          0.15025              0.0              0.0  \n",
      "3              0.0          0.15312              0.0              0.0  \n",
      "4              0.0          0.15649              0.0              0.0  \n",
      "<class 'pandas.core.frame.DataFrame'>\n",
      "RangeIndex: 4007419 entries, 0 to 4007418\n",
      "Data columns (total 14 columns):\n",
      " #   Column           Dtype  \n",
      "---  ------           -----  \n",
      " 0   unique_id        int64  \n",
      " 1   date             object \n",
      " 2   warehouse        object \n",
      " 3   total_orders     float64\n",
      " 4   sales            float64\n",
      " 5   sell_price_main  float64\n",
      " 6   availability     float64\n",
      " 7   type_0_discount  float64\n",
      " 8   type_1_discount  float64\n",
      " 9   type_2_discount  float64\n",
      " 10  type_3_discount  float64\n",
      " 11  type_4_discount  float64\n",
      " 12  type_5_discount  float64\n",
      " 13  type_6_discount  float64\n",
      "dtypes: float64(11), int64(1), object(2)\n",
      "memory usage: 428.0+ MB\n",
      "Train info\n",
      " None\n",
      "Train shape\n",
      " (4007419, 14)\n"
     ]
    }
   ],
   "source": [
    "data_check_train()"
   ]
  },
  {
   "cell_type": "code",
   "execution_count": 8,
   "id": "780410ec",
   "metadata": {
    "execution": {
     "iopub.execute_input": "2025-02-07T10:54:12.601359Z",
     "iopub.status.busy": "2025-02-07T10:54:12.600998Z",
     "iopub.status.idle": "2025-02-07T10:54:12.628932Z",
     "shell.execute_reply": "2025-02-07T10:54:12.628018Z",
     "shell.execute_reply.started": "2025-02-07T10:54:12.601332Z"
    }
   },
   "outputs": [
    {
     "name": "stdout",
     "output_type": "stream",
     "text": [
      "Test\n",
      "    unique_id        date warehouse  total_orders  sell_price_main  \\\n",
      "0       1226  2024-06-03    Brno_1        8679.0            13.13   \n",
      "1       1226  2024-06-11    Brno_1        8795.0            13.13   \n",
      "2       1226  2024-06-13    Brno_1       10009.0            13.13   \n",
      "3       1226  2024-06-15    Brno_1        8482.0            13.13   \n",
      "4       1226  2024-06-09    Brno_1        8195.0            13.13   \n",
      "\n",
      "   type_0_discount  type_1_discount  type_2_discount  type_3_discount  \\\n",
      "0          0.00000              0.0              0.0              0.0   \n",
      "1          0.15873              0.0              0.0              0.0   \n",
      "2          0.15873              0.0              0.0              0.0   \n",
      "3          0.15873              0.0              0.0              0.0   \n",
      "4          0.00000              0.0              0.0              0.0   \n",
      "\n",
      "   type_4_discount  type_5_discount  type_6_discount  \n",
      "0              0.0              0.0              0.0  \n",
      "1              0.0              0.0              0.0  \n",
      "2              0.0              0.0              0.0  \n",
      "3              0.0              0.0              0.0  \n",
      "4              0.0              0.0              0.0  \n",
      "<class 'pandas.core.frame.DataFrame'>\n",
      "RangeIndex: 47021 entries, 0 to 47020\n",
      "Data columns (total 12 columns):\n",
      " #   Column           Non-Null Count  Dtype  \n",
      "---  ------           --------------  -----  \n",
      " 0   unique_id        47021 non-null  int64  \n",
      " 1   date             47021 non-null  object \n",
      " 2   warehouse        47021 non-null  object \n",
      " 3   total_orders     47021 non-null  float64\n",
      " 4   sell_price_main  47021 non-null  float64\n",
      " 5   type_0_discount  47021 non-null  float64\n",
      " 6   type_1_discount  47021 non-null  float64\n",
      " 7   type_2_discount  47021 non-null  float64\n",
      " 8   type_3_discount  47021 non-null  float64\n",
      " 9   type_4_discount  47021 non-null  float64\n",
      " 10  type_5_discount  47021 non-null  float64\n",
      " 11  type_6_discount  47021 non-null  float64\n",
      "dtypes: float64(9), int64(1), object(2)\n",
      "memory usage: 4.3+ MB\n",
      "Test info\n",
      " None\n",
      "Test shape\n",
      " (47021, 12)\n"
     ]
    }
   ],
   "source": [
    "data_check_test()"
   ]
  },
  {
   "cell_type": "code",
   "execution_count": null,
   "id": "648fc5df",
   "metadata": {},
   "outputs": [],
   "source": [
    "data_check_calendar()"
   ]
  },
  {
   "cell_type": "code",
   "execution_count": null,
   "id": "19928625",
   "metadata": {},
   "outputs": [],
   "source": [
    "data_check_inventory()"
   ]
  },
  {
   "cell_type": "markdown",
   "id": "eb2a9fef",
   "metadata": {},
   "source": [
    "## Checking null values & merging dataframes"
   ]
  },
  {
   "cell_type": "code",
   "execution_count": 5,
   "id": "942c2c8e",
   "metadata": {
    "execution": {
     "iopub.execute_input": "2025-02-07T13:15:03.822331Z",
     "iopub.status.busy": "2025-02-07T13:15:03.821983Z",
     "iopub.status.idle": "2025-02-07T13:15:03.827097Z",
     "shell.execute_reply": "2025-02-07T13:15:03.826099Z",
     "shell.execute_reply.started": "2025-02-07T13:15:03.822302Z"
    }
   },
   "outputs": [],
   "source": [
    "def check_null(df=pd.DataFrame()):\n",
    "    print(df.isnull().sum())\n",
    "    "
   ]
  },
  {
   "cell_type": "code",
   "execution_count": 27,
   "id": "68b89411",
   "metadata": {
    "execution": {
     "iopub.execute_input": "2025-02-07T10:54:22.402417Z",
     "iopub.status.busy": "2025-02-07T10:54:22.402077Z",
     "iopub.status.idle": "2025-02-07T10:54:22.976578Z",
     "shell.execute_reply": "2025-02-07T10:54:22.975618Z",
     "shell.execute_reply.started": "2025-02-07T10:54:22.402389Z"
    }
   },
   "outputs": [
    {
     "name": "stdout",
     "output_type": "stream",
     "text": [
      "unique_id           0\n",
      "date                0\n",
      "warehouse           0\n",
      "total_orders       52\n",
      "sales              52\n",
      "sell_price_main     0\n",
      "availability        0\n",
      "type_0_discount     0\n",
      "type_1_discount     0\n",
      "type_2_discount     0\n",
      "type_3_discount     0\n",
      "type_4_discount     0\n",
      "type_5_discount     0\n",
      "type_6_discount     0\n",
      "dtype: int64\n"
     ]
    }
   ],
   "source": [
    "check_null(train)"
   ]
  },
  {
   "cell_type": "code",
   "execution_count": null,
   "id": "b006299d",
   "metadata": {},
   "outputs": [],
   "source": [
    "check_null(test)"
   ]
  },
  {
   "cell_type": "code",
   "execution_count": null,
   "id": "d50841e8",
   "metadata": {},
   "outputs": [],
   "source": [
    "check_null(calendar)"
   ]
  },
  {
   "cell_type": "code",
   "execution_count": null,
   "id": "c7fc5283",
   "metadata": {},
   "outputs": [],
   "source": [
    "check_null(inventory)"
   ]
  },
  {
   "cell_type": "code",
   "execution_count": null,
   "id": "55069901",
   "metadata": {},
   "outputs": [],
   "source": [
    "calendar['holiday_name'].nunique()"
   ]
  },
  {
   "cell_type": "code",
   "execution_count": 6,
   "id": "a91331ae",
   "metadata": {
    "execution": {
     "iopub.execute_input": "2025-02-07T13:15:08.343559Z",
     "iopub.status.busy": "2025-02-07T13:15:08.343064Z",
     "iopub.status.idle": "2025-02-07T13:15:09.120981Z",
     "shell.execute_reply": "2025-02-07T13:15:09.119966Z",
     "shell.execute_reply.started": "2025-02-07T13:15:08.343511Z"
    }
   },
   "outputs": [],
   "source": [
    "Dict={}\n",
    "for i in range(len(calendar)):\n",
    "    if (calendar['holiday_name'][i]!='Nil'):\n",
    "        Dict[calendar['date'][i]]=calendar['holiday_name'][i]    \n",
    "train['holiday_name']=train['date'].map(Dict)       "
   ]
  },
  {
   "cell_type": "code",
   "execution_count": 7,
   "id": "abed4b79",
   "metadata": {
    "execution": {
     "iopub.execute_input": "2025-02-07T13:15:11.718710Z",
     "iopub.status.busy": "2025-02-07T13:15:11.718304Z",
     "iopub.status.idle": "2025-02-07T13:15:12.318276Z",
     "shell.execute_reply": "2025-02-07T13:15:12.317096Z",
     "shell.execute_reply.started": "2025-02-07T13:15:11.718679Z"
    }
   },
   "outputs": [],
   "source": [
    "Dict1={}\n",
    "for i in range(len(calendar)):\n",
    "     Dict1[calendar['date'][i]]=calendar['holiday'][i] \n",
    "train['holiday']=train['date'].map(Dict1)"
   ]
  },
  {
   "cell_type": "code",
   "execution_count": 8,
   "id": "25b2d055",
   "metadata": {
    "execution": {
     "iopub.execute_input": "2025-02-07T13:15:15.394614Z",
     "iopub.status.busy": "2025-02-07T13:15:15.394279Z",
     "iopub.status.idle": "2025-02-07T13:15:15.991962Z",
     "shell.execute_reply": "2025-02-07T13:15:15.990929Z",
     "shell.execute_reply.started": "2025-02-07T13:15:15.394589Z"
    }
   },
   "outputs": [],
   "source": [
    "Dict2={}\n",
    "for i in range(len(calendar)):\n",
    "     Dict2[calendar['date'][i]]=calendar['shops_closed'][i]\n",
    "train['shops_closed']=train['date'].map(Dict2)\n"
   ]
  },
  {
   "cell_type": "code",
   "execution_count": 9,
   "id": "379094cf",
   "metadata": {
    "execution": {
     "iopub.execute_input": "2025-02-07T13:15:18.982141Z",
     "iopub.status.busy": "2025-02-07T13:15:18.981763Z",
     "iopub.status.idle": "2025-02-07T13:15:19.583040Z",
     "shell.execute_reply": "2025-02-07T13:15:19.582006Z",
     "shell.execute_reply.started": "2025-02-07T13:15:18.982110Z"
    }
   },
   "outputs": [],
   "source": [
    "Dict3={}\n",
    "for i in range(len(calendar)):\n",
    "     Dict3[calendar['date'][i]]=calendar['winter_school_holidays'][i] \n",
    "train['winter_school_holidays']=train['date'].map(Dict3)"
   ]
  },
  {
   "cell_type": "code",
   "execution_count": 10,
   "id": "0b35e898",
   "metadata": {
    "execution": {
     "iopub.execute_input": "2025-02-07T13:15:22.584428Z",
     "iopub.status.busy": "2025-02-07T13:15:22.584052Z",
     "iopub.status.idle": "2025-02-07T13:15:23.152684Z",
     "shell.execute_reply": "2025-02-07T13:15:23.151545Z",
     "shell.execute_reply.started": "2025-02-07T13:15:22.584400Z"
    }
   },
   "outputs": [],
   "source": [
    "Dict4={}\n",
    "for i in range(len(calendar)):\n",
    "     Dict4[calendar['date'][i]]=calendar['school_holidays'][i]\n",
    "train['school_holidays']=train['date'].map(Dict4)"
   ]
  },
  {
   "cell_type": "code",
   "execution_count": 11,
   "id": "c7dcfe0c",
   "metadata": {
    "execution": {
     "iopub.execute_input": "2025-02-07T13:15:25.908346Z",
     "iopub.status.busy": "2025-02-07T13:15:25.907971Z",
     "iopub.status.idle": "2025-02-07T13:15:26.532172Z",
     "shell.execute_reply": "2025-02-07T13:15:26.531093Z",
     "shell.execute_reply.started": "2025-02-07T13:15:25.908315Z"
    }
   },
   "outputs": [],
   "source": [
    "Dict5={}\n",
    "for i in range(len(calendar)):\n",
    "     Dict5[calendar['date'][i]]=calendar['warehouse'][i]\n",
    "train['warehouse_holiday']=train['date'].map(Dict5)"
   ]
  },
  {
   "cell_type": "code",
   "execution_count": 12,
   "id": "0e274c0d",
   "metadata": {
    "execution": {
     "iopub.execute_input": "2025-02-07T13:15:29.440675Z",
     "iopub.status.busy": "2025-02-07T13:15:29.440338Z",
     "iopub.status.idle": "2025-02-07T13:15:29.449551Z",
     "shell.execute_reply": "2025-02-07T13:15:29.448482Z",
     "shell.execute_reply.started": "2025-02-07T13:15:29.440648Z"
    }
   },
   "outputs": [],
   "source": [
    "def merge_df(train=pd.DataFrame(),inventory=pd.DataFrame()):\n",
    "    \n",
    "    Dict6={}\n",
    "    for i in range(len(inventory)):\n",
    "         Dict6[inventory['unique_id'][i]]=inventory['product_unique_id'][i]\n",
    "    train['product_unique_id']=train['unique_id'].map(Dict6)\n",
    "    \n",
    "    Dict7={}\n",
    "    for i in range(len(inventory)):\n",
    "         Dict7[inventory['unique_id'][i]]=inventory['name'][i]\n",
    "    train['Prod_Name']=train['unique_id'].map(Dict7)\n",
    "    \n",
    "    Dict8={}\n",
    "    for i in range(len(inventory)):\n",
    "         Dict8[inventory['unique_id'][i]]=inventory['L1_category_name_en'][i]\n",
    "    train['L1_category_name_en']=train['unique_id'].map(Dict8)\n",
    "    \n",
    "    Dict9={}\n",
    "    for i in range(len(inventory)):\n",
    "         Dict9[inventory['unique_id'][i]]=inventory['L2_category_name_en'][i]\n",
    "    train['L2_category_name_en']=train['unique_id'].map(Dict9)\n",
    "    \n",
    "    Dict10={}\n",
    "    for i in range(len(inventory)):\n",
    "         Dict10[inventory['unique_id'][i]]=inventory['L3_category_name_en'][i]\n",
    "    train['L3_category_name_en']=train['unique_id'].map(Dict10)\n",
    "    \n",
    "    Dict11={}\n",
    "    for i in range(len(inventory)):\n",
    "         Dict11[inventory['unique_id'][i]]=inventory['L4_category_name_en'][i]\n",
    "    train['L4_category_name_en']=train['unique_id'].map(Dict11)\n",
    "    \n",
    "    "
   ]
  },
  {
   "cell_type": "code",
   "execution_count": 13,
   "id": "1d1f7c80",
   "metadata": {
    "execution": {
     "iopub.execute_input": "2025-02-07T13:15:35.409289Z",
     "iopub.status.busy": "2025-02-07T13:15:35.408907Z",
     "iopub.status.idle": "2025-02-07T13:15:35.419104Z",
     "shell.execute_reply": "2025-02-07T13:15:35.417750Z",
     "shell.execute_reply.started": "2025-02-07T13:15:35.409259Z"
    }
   },
   "outputs": [],
   "source": [
    "def merge_df1(test=pd.DataFrame(),calendar=pd.DataFrame()):\n",
    "    \n",
    "    Dict={}\n",
    "    for i in range(len(calendar)):\n",
    "        if (calendar['holiday_name'][i]!='Nil'):\n",
    "            Dict[calendar['date'][i]]=calendar['holiday_name'][i]    \n",
    "    test['holiday_name']=test['date'].map(Dict)       \n",
    "    \n",
    "\n",
    "    Dict1={}\n",
    "    for i in range(len(calendar)):\n",
    "         Dict1[calendar['date'][i]]=calendar['holiday'][i] \n",
    "    test['holiday']=test['date'].map(Dict1)\n",
    "    \n",
    "    Dict2={}\n",
    "    for i in range(len(calendar)):\n",
    "         Dict2[calendar['date'][i]]=calendar['shops_closed'][i]\n",
    "    test['shops_closed']=test['date'].map(Dict2)\n",
    "\n",
    "    \n",
    "    Dict3={}\n",
    "    for i in range(len(calendar)):\n",
    "         Dict3[calendar['date'][i]]=calendar['winter_school_holidays'][i] \n",
    "    test['winter_school_holidays']=test['date'].map(Dict3)\n",
    "    \n",
    "    Dict4={}\n",
    "    for i in range(len(calendar)):\n",
    "         Dict4[calendar['date'][i]]=calendar['school_holidays'][i]\n",
    "    test['school_holidays']=test['date'].map(Dict4)\n",
    "    \n",
    "    Dict5={}\n",
    "    for i in range(len(calendar)):\n",
    "         Dict5[calendar['date'][i]]=calendar['warehouse'][i]\n",
    "    test['warehouse_holiday']=test['date'].map(Dict5)\n",
    "    "
   ]
  },
  {
   "cell_type": "code",
   "execution_count": 14,
   "id": "798576bf",
   "metadata": {
    "execution": {
     "iopub.execute_input": "2025-02-07T13:15:41.517215Z",
     "iopub.status.busy": "2025-02-07T13:15:41.516744Z",
     "iopub.status.idle": "2025-02-07T13:15:41.529993Z",
     "shell.execute_reply": "2025-02-07T13:15:41.528690Z",
     "shell.execute_reply.started": "2025-02-07T13:15:41.517175Z"
    }
   },
   "outputs": [],
   "source": [
    "def merge_df2(test=pd.DataFrame(),inventory=pd.DataFrame()):\n",
    "    \n",
    "    Dict6={}\n",
    "    for i in range(len(inventory)):\n",
    "         Dict6[inventory['unique_id'][i]]=inventory['product_unique_id'][i]\n",
    "    test['product_unique_id']=test['unique_id'].map(Dict6)\n",
    "    \n",
    "    Dict7={}\n",
    "    for i in range(len(inventory)):\n",
    "         Dict7[inventory['unique_id'][i]]=inventory['name'][i]\n",
    "    test['Prod_Name']=test['unique_id'].map(Dict7)\n",
    "    \n",
    "    Dict8={}\n",
    "    for i in range(len(inventory)):\n",
    "         Dict8[inventory['unique_id'][i]]=inventory['L1_category_name_en'][i]\n",
    "    test['L1_category_name_en']=test['unique_id'].map(Dict8)\n",
    "    \n",
    "    Dict9={}\n",
    "    for i in range(len(inventory)):\n",
    "         Dict9[inventory['unique_id'][i]]=inventory['L2_category_name_en'][i]\n",
    "    test['L2_category_name_en']=test['unique_id'].map(Dict9)\n",
    "    \n",
    "    Dict10={}\n",
    "    for i in range(len(inventory)):\n",
    "         Dict10[inventory['unique_id'][i]]=inventory['L3_category_name_en'][i]\n",
    "    test['L3_category_name_en']=test['unique_id'].map(Dict10)\n",
    "    \n",
    "    Dict11={}\n",
    "    for i in range(len(inventory)):\n",
    "         Dict11[inventory['unique_id'][i]]=inventory['L4_category_name_en'][i]\n",
    "    test['L4_category_name_en']=test['unique_id'].map(Dict11)"
   ]
  },
  {
   "cell_type": "code",
   "execution_count": 15,
   "id": "3411dd78",
   "metadata": {
    "execution": {
     "iopub.execute_input": "2025-02-07T13:15:46.408288Z",
     "iopub.status.busy": "2025-02-07T13:15:46.407906Z",
     "iopub.status.idle": "2025-02-07T13:15:47.417632Z",
     "shell.execute_reply": "2025-02-07T13:15:47.416653Z",
     "shell.execute_reply.started": "2025-02-07T13:15:46.408257Z"
    }
   },
   "outputs": [],
   "source": [
    "merge_df(train,inventory)"
   ]
  },
  {
   "cell_type": "code",
   "execution_count": 16,
   "id": "3212322c",
   "metadata": {
    "execution": {
     "iopub.execute_input": "2025-02-07T13:15:50.374843Z",
     "iopub.status.busy": "2025-02-07T13:15:50.374449Z",
     "iopub.status.idle": "2025-02-07T13:15:52.178912Z",
     "shell.execute_reply": "2025-02-07T13:15:52.177676Z",
     "shell.execute_reply.started": "2025-02-07T13:15:50.374814Z"
    }
   },
   "outputs": [],
   "source": [
    "merge_df1(test,calendar)"
   ]
  },
  {
   "cell_type": "code",
   "execution_count": 17,
   "id": "4f2b9da1",
   "metadata": {
    "execution": {
     "iopub.execute_input": "2025-02-07T13:15:54.793128Z",
     "iopub.status.busy": "2025-02-07T13:15:54.792817Z",
     "iopub.status.idle": "2025-02-07T13:15:55.269474Z",
     "shell.execute_reply": "2025-02-07T13:15:55.268314Z",
     "shell.execute_reply.started": "2025-02-07T13:15:54.793103Z"
    }
   },
   "outputs": [],
   "source": [
    "merge_df2(test,inventory)"
   ]
  },
  {
   "cell_type": "markdown",
   "id": "eb6fed92",
   "metadata": {},
   "source": [
    "## Handling missing values"
   ]
  },
  {
   "cell_type": "code",
   "execution_count": 18,
   "id": "0d890080",
   "metadata": {},
   "outputs": [
    {
     "data": {
      "text/plain": [
       "array([nan, 'Christmas Eve',\n",
       "       'Memorial Day for the Victims of the Holocaust',\n",
       "       'Memorial Day for the Martyrs of Arad', 'Easter Monday',\n",
       "       'Labour Day', 'Jan Hus', 'New Years Day', 'Whit sunday',\n",
       "       'Cyrila a Metodej', '1st Christmas Day',\n",
       "       '1848 Revolution Memorial Day (Extra holiday)', 'Den osvobozeni',\n",
       "       'Memorial day of the 1956 Revolution', 'International womens day',\n",
       "       'German Unity Day', 'Peace Festival in Augsburg', 'Whit monday',\n",
       "       'Ascension day', \"All Saints' Day Holiday\",\n",
       "       'Memorial Day of the Republic', 'All Saints Day',\n",
       "       'Den boje za svobodu a demokracii', 'Den ceske statnosti',\n",
       "       'Epiphany', '2nd Christmas Day', 'Corpus Christi',\n",
       "       'Assumption of the Virgin Mary', 'Good Friday',\n",
       "       'State Foundation Day',\n",
       "       'Den vzniku samostatneho ceskoslovenskeho statu',\n",
       "       'Memorial Day for the Victims of the Communist Dictatorships'],\n",
       "      dtype=object)"
      ]
     },
     "execution_count": 18,
     "metadata": {},
     "output_type": "execute_result"
    }
   ],
   "source": [
    "train['holiday_name'].unique()"
   ]
  },
  {
   "cell_type": "code",
   "execution_count": 18,
   "id": "5dce495e",
   "metadata": {
    "execution": {
     "iopub.execute_input": "2025-02-07T13:15:59.120184Z",
     "iopub.status.busy": "2025-02-07T13:15:59.119843Z",
     "iopub.status.idle": "2025-02-07T13:15:59.318938Z",
     "shell.execute_reply": "2025-02-07T13:15:59.317856Z",
     "shell.execute_reply.started": "2025-02-07T13:15:59.120133Z"
    }
   },
   "outputs": [],
   "source": [
    "\n",
    "train['holiday_name'].replace(np.nan,\"Nil\",inplace=True)\n",
    "test['holiday_name'].replace(np.nan,\"Nil\",inplace=True)"
   ]
  },
  {
   "cell_type": "code",
   "execution_count": 19,
   "id": "cf7a22a0",
   "metadata": {
    "execution": {
     "iopub.execute_input": "2025-02-07T13:16:02.676103Z",
     "iopub.status.busy": "2025-02-07T13:16:02.675783Z",
     "iopub.status.idle": "2025-02-07T13:16:02.820024Z",
     "shell.execute_reply": "2025-02-07T13:16:02.819199Z",
     "shell.execute_reply.started": "2025-02-07T13:16:02.676077Z"
    }
   },
   "outputs": [],
   "source": [
    "train['total_orders'].fillna(train['total_orders'].median(),inplace=True)\n",
    "train['sales'].fillna(train['sales'].median(),inplace=True)"
   ]
  },
  {
   "cell_type": "code",
   "execution_count": 22,
   "id": "68f79be3",
   "metadata": {
    "execution": {
     "iopub.execute_input": "2025-02-07T13:16:05.800113Z",
     "iopub.status.busy": "2025-02-07T13:16:05.799799Z",
     "iopub.status.idle": "2025-02-07T13:16:07.776012Z",
     "shell.execute_reply": "2025-02-07T13:16:07.774897Z",
     "shell.execute_reply.started": "2025-02-07T13:16:05.800089Z"
    }
   },
   "outputs": [
    {
     "name": "stdout",
     "output_type": "stream",
     "text": [
      "unique_id                 0\n",
      "date                      0\n",
      "warehouse                 0\n",
      "total_orders              0\n",
      "sales                     0\n",
      "sell_price_main           0\n",
      "availability              0\n",
      "type_0_discount           0\n",
      "type_1_discount           0\n",
      "type_2_discount           0\n",
      "type_3_discount           0\n",
      "type_4_discount           0\n",
      "type_5_discount           0\n",
      "type_6_discount           0\n",
      "holiday_name              0\n",
      "holiday                   0\n",
      "shops_closed              0\n",
      "winter_school_holidays    0\n",
      "school_holidays           0\n",
      "warehouse_holiday         0\n",
      "product_unique_id         0\n",
      "Prod_Name                 0\n",
      "L1_category_name_en       0\n",
      "L2_category_name_en       0\n",
      "L3_category_name_en       0\n",
      "L4_category_name_en       0\n",
      "dtype: int64\n"
     ]
    }
   ],
   "source": [
    "check_null(train)"
   ]
  },
  {
   "cell_type": "code",
   "execution_count": 23,
   "id": "9da797b4",
   "metadata": {
    "execution": {
     "iopub.execute_input": "2025-02-07T13:16:11.292317Z",
     "iopub.status.busy": "2025-02-07T13:16:11.291913Z",
     "iopub.status.idle": "2025-02-07T13:16:11.325400Z",
     "shell.execute_reply": "2025-02-07T13:16:11.324095Z",
     "shell.execute_reply.started": "2025-02-07T13:16:11.292286Z"
    }
   },
   "outputs": [
    {
     "name": "stdout",
     "output_type": "stream",
     "text": [
      "unique_id                 0\n",
      "date                      0\n",
      "warehouse                 0\n",
      "total_orders              0\n",
      "sell_price_main           0\n",
      "type_0_discount           0\n",
      "type_1_discount           0\n",
      "type_2_discount           0\n",
      "type_3_discount           0\n",
      "type_4_discount           0\n",
      "type_5_discount           0\n",
      "type_6_discount           0\n",
      "holiday_name              0\n",
      "holiday                   0\n",
      "shops_closed              0\n",
      "winter_school_holidays    0\n",
      "school_holidays           0\n",
      "warehouse_holiday         0\n",
      "product_unique_id         0\n",
      "Prod_Name                 0\n",
      "L1_category_name_en       0\n",
      "L2_category_name_en       0\n",
      "L3_category_name_en       0\n",
      "L4_category_name_en       0\n",
      "dtype: int64\n"
     ]
    }
   ],
   "source": [
    "check_null(test)"
   ]
  },
  {
   "cell_type": "code",
   "execution_count": 20,
   "id": "53daf7c5",
   "metadata": {
    "execution": {
     "iopub.execute_input": "2025-02-07T13:16:15.016085Z",
     "iopub.status.busy": "2025-02-07T13:16:15.015752Z",
     "iopub.status.idle": "2025-02-07T13:16:16.421474Z",
     "shell.execute_reply": "2025-02-07T13:16:16.420375Z",
     "shell.execute_reply.started": "2025-02-07T13:16:15.016059Z"
    }
   },
   "outputs": [],
   "source": [
    "train['date']=pd.to_datetime(train['date'])\n",
    "\n",
    "train['Year']=train['date'].dt.year\n",
    "train['Month']=train['date'].dt.month\n",
    "train['Day']=train['date'].dt.day\n",
    "\n",
    "test['date']=pd.to_datetime(test['date'])\n",
    "test['Year']=test['date'].dt.year\n",
    "test['Month']=test['date'].dt.month\n",
    "test['Day']=test['date'].dt.day"
   ]
  },
  {
   "cell_type": "markdown",
   "id": "918f763b",
   "metadata": {},
   "source": [
    "## Univariate Analysis"
   ]
  },
  {
   "cell_type": "code",
   "execution_count": null,
   "id": "c0bc6397",
   "metadata": {},
   "outputs": [],
   "source": [
    "sns.countplot(data=train,x='warehouse')"
   ]
  },
  {
   "cell_type": "code",
   "execution_count": null,
   "id": "161c49e3",
   "metadata": {},
   "outputs": [],
   "source": [
    "df=train.groupby('Year').sum('total_orders')\n",
    "sns.distplot(df['total_orders'])"
   ]
  },
  {
   "cell_type": "code",
   "execution_count": null,
   "id": "fecac2c9",
   "metadata": {},
   "outputs": [],
   "source": [
    "train.columns"
   ]
  },
  {
   "cell_type": "code",
   "execution_count": null,
   "id": "786b6ce7",
   "metadata": {},
   "outputs": [],
   "source": [
    "df=train.groupby('Year').sum('sell_price_main')\n",
    "sns.distplot(df['sell_price_main'])"
   ]
  },
  {
   "cell_type": "code",
   "execution_count": null,
   "id": "b493d291",
   "metadata": {},
   "outputs": [],
   "source": [
    "df=train.groupby('Year').sum('type_0_discount')\n",
    "sns.distplot(df['type_0_discount'])"
   ]
  },
  {
   "cell_type": "code",
   "execution_count": null,
   "id": "8bf2bb2e",
   "metadata": {},
   "outputs": [],
   "source": [
    "df=train.groupby('Year').sum('type_1_discount ')\n",
    "sns.distplot(df['type_1_discount'])\n"
   ]
  },
  {
   "cell_type": "code",
   "execution_count": null,
   "id": "25f206d5",
   "metadata": {},
   "outputs": [],
   "source": [
    "df=train.groupby('Year').sum('type_2_discount ')\n",
    "sns.distplot(df['type_2_discount'])\n"
   ]
  },
  {
   "cell_type": "code",
   "execution_count": null,
   "id": "6f71cd6b",
   "metadata": {},
   "outputs": [],
   "source": [
    "df=train.groupby('Year').sum('type_1_discount ')\n",
    "sns.distplot(df['type_3_discount'])\n"
   ]
  },
  {
   "cell_type": "code",
   "execution_count": null,
   "id": "a347952f",
   "metadata": {},
   "outputs": [],
   "source": [
    "df=train.groupby('Year').sum('type_4_discount ')\n",
    "sns.distplot(df['type_4_discount'])\n"
   ]
  },
  {
   "cell_type": "code",
   "execution_count": null,
   "id": "2c00bb93",
   "metadata": {},
   "outputs": [],
   "source": [
    "df=train.groupby('Year').sum('type_1_discount ')\n",
    "sns.distplot(df['type_5_discount'])\n"
   ]
  },
  {
   "cell_type": "code",
   "execution_count": null,
   "id": "e50d80d0",
   "metadata": {},
   "outputs": [],
   "source": [
    "df=train.groupby('Year').sum('type_6_discount ')\n",
    "sns.distplot(df['type_6_discount'])\n"
   ]
  },
  {
   "cell_type": "markdown",
   "id": "8b304706",
   "metadata": {},
   "source": [
    "## Bivariate analysis"
   ]
  },
  {
   "cell_type": "code",
   "execution_count": null,
   "id": "938aa6e8",
   "metadata": {},
   "outputs": [],
   "source": [
    "df=train.groupby('Year').sum('total_orders')\n",
    "sns.lineplot(data=df,x='Year',y='total_orders')"
   ]
  },
  {
   "cell_type": "code",
   "execution_count": null,
   "id": "e0dd2ea8",
   "metadata": {},
   "outputs": [],
   "source": [
    "df=train.groupby('Year').sum('sell_price_main')\n",
    "sns.lineplot(data=df,x='Year',y='sell_price_main')"
   ]
  },
  {
   "cell_type": "code",
   "execution_count": null,
   "id": "a9cbac4a",
   "metadata": {},
   "outputs": [],
   "source": [
    "df=train.groupby('Year').sum('type_0_discount')\n",
    "sns.lineplot(data=df,x='Year',y='type_0_discount')"
   ]
  },
  {
   "cell_type": "code",
   "execution_count": null,
   "id": "897b363b",
   "metadata": {},
   "outputs": [],
   "source": [
    "df=train.groupby('Year').sum('type_1_discount')\n",
    "sns.lineplot(data=df,x='Year',y='type_1_discount')"
   ]
  },
  {
   "cell_type": "code",
   "execution_count": null,
   "id": "68fff726",
   "metadata": {},
   "outputs": [],
   "source": [
    "df=train.groupby('Year').sum('type_2_discount')\n",
    "sns.lineplot(data=df,x='Year',y='type_2_discount')"
   ]
  },
  {
   "cell_type": "code",
   "execution_count": null,
   "id": "3d29d1f0",
   "metadata": {},
   "outputs": [],
   "source": [
    "df=train.groupby('Year').sum('type_3_discount')\n",
    "sns.lineplot(data=df,x='Year',y='type_3_discount')"
   ]
  },
  {
   "cell_type": "code",
   "execution_count": null,
   "id": "435ef560",
   "metadata": {},
   "outputs": [],
   "source": [
    "df=train.groupby('Year').sum('type_4_discount')\n",
    "sns.lineplot(data=df,x='Year',y='type_4_discount')"
   ]
  },
  {
   "cell_type": "code",
   "execution_count": null,
   "id": "d600996d",
   "metadata": {},
   "outputs": [],
   "source": [
    "df=train.groupby('Year').sum('type_5_discount')\n",
    "sns.lineplot(data=df,x='Year',y='type_5_discount')"
   ]
  },
  {
   "cell_type": "code",
   "execution_count": null,
   "id": "4c7a7ce4",
   "metadata": {},
   "outputs": [],
   "source": [
    "df=train.groupby('Year').sum('type_6_discount')\n",
    "sns.lineplot(data=df,x='Year',y='type_6_discount')"
   ]
  },
  {
   "cell_type": "markdown",
   "id": "043cc037",
   "metadata": {},
   "source": [
    "## Feature engineering"
   ]
  },
  {
   "cell_type": "code",
   "execution_count": 21,
   "id": "f92036dc",
   "metadata": {
    "execution": {
     "iopub.execute_input": "2025-02-07T13:16:25.140523Z",
     "iopub.status.busy": "2025-02-07T13:16:25.140181Z",
     "iopub.status.idle": "2025-02-07T13:16:26.263055Z",
     "shell.execute_reply": "2025-02-07T13:16:26.262125Z",
     "shell.execute_reply.started": "2025-02-07T13:16:25.140494Z"
    }
   },
   "outputs": [],
   "source": [
    "train['total_orders_Q']=pd.cut(np.log1p(train['total_orders']),bins=4,precision=1,labels=['S','M','L','XL'])\n",
    "train['type_0_discount_Q']=pd.cut(np.log1p(train['type_0_discount']),bins=4,precision=1,labels=['S','M','L','XL'])\n",
    "train['type_1_discount_Q']=pd.cut(np.log1p(train['type_1_discount']),bins=4,precision=1,labels=['S','M','L','XL'])\n",
    "train['type_2_discount_Q']=pd.cut(np.log1p(train['type_2_discount']),bins=4,precision=1,labels=['S','M','L','XL'])\n",
    "train['type_3_discount_Q']=pd.cut(np.log1p(train['type_3_discount']),bins=4,precision=1,labels=['S','M','L','XL'])\n",
    "train['type_4_discount_Q']=pd.cut(np.log1p(train['type_4_discount']),bins=4,precision=1,labels=['S','M','L','XL'])\n",
    "train['type_5_discount_Q']=pd.cut(np.log1p(train['type_5_discount']),bins=4,precision=1,labels=['S','M','L','XL'])\n",
    "train['type_6_discount_Q']=pd.cut(np.log1p(train['type_6_discount']),bins=4,precision=1,labels=['S','M','L','XL'])\n",
    "train['sell_price_main_Q']=pd.cut(np.log1p(train['sell_price_main']),bins=4,precision=1,labels=['S','M','L','XL'])\n",
    "train['type_0_discount_Q'].fillna('XL',inplace=True)\n"
   ]
  },
  {
   "cell_type": "code",
   "execution_count": 22,
   "id": "3a8c3613",
   "metadata": {
    "execution": {
     "iopub.execute_input": "2025-02-07T13:16:30.467009Z",
     "iopub.status.busy": "2025-02-07T13:16:30.466623Z",
     "iopub.status.idle": "2025-02-07T13:16:30.509912Z",
     "shell.execute_reply": "2025-02-07T13:16:30.508913Z",
     "shell.execute_reply.started": "2025-02-07T13:16:30.466977Z"
    }
   },
   "outputs": [],
   "source": [
    "test['type_0_discount_Q']=pd.cut(np.log1p(test['type_0_discount']),bins=4,precision=1,labels=['S','M','L','XL'])\n",
    "test['total_orders_Q']=pd.cut(np.log1p(test['total_orders']),bins=4,precision=1,labels=['S','M','L','XL'])\n",
    "test['type_1_discount_Q']=pd.cut(np.log1p(test['type_1_discount']),bins=4,precision=1,labels=['S','M','L','XL'])\n",
    "test['type_2_discount_Q']=pd.cut(np.log1p(test['type_2_discount']),bins=4,precision=1,labels=['S','M','L','XL'])\n",
    "test['type_3_discount_Q']=pd.cut(np.log1p(test['type_3_discount']),bins=4,precision=1,labels=['S','M','L','XL'])\n",
    "test['type_4_discount_Q']=pd.cut(np.log1p(test['type_4_discount']),bins=4,precision=1,labels=['S','M','L','XL'])\n",
    "test['type_5_discount_Q']=pd.cut(np.log1p(test['type_5_discount']),bins=4,precision=1,labels=['S','M','L','XL'])\n",
    "test['type_6_discount_Q']=pd.cut(np.log1p(test['type_6_discount']),bins=4,precision=1,labels=['S','M','L','XL'])\n",
    "test['sell_price_main_Q']=pd.cut(np.log1p(test['sell_price_main']),bins=4,precision=1,labels=['S','M','L','XL'])"
   ]
  },
  {
   "cell_type": "code",
   "execution_count": 23,
   "id": "9a2469b9",
   "metadata": {
    "execution": {
     "iopub.execute_input": "2025-02-07T13:16:42.979309Z",
     "iopub.status.busy": "2025-02-07T13:16:42.978823Z",
     "iopub.status.idle": "2025-02-07T13:16:43.266534Z",
     "shell.execute_reply": "2025-02-07T13:16:43.265037Z",
     "shell.execute_reply.started": "2025-02-07T13:16:42.979266Z"
    }
   },
   "outputs": [],
   "source": [
    "Dict1={'Budapest_1':1, 'Prague_2':2, 'Brno_1':3, 'Prague_1':4, 'Prague_3':5,\n",
    "       'Munich_1':6, 'Frankfurt_1':7}\n",
    "train['warehoue_n']=train['warehouse'].map(Dict1)\n",
    "test['warehoue_n']=test['warehouse'].map(Dict1)"
   ]
  },
  {
   "cell_type": "code",
   "execution_count": 24,
   "id": "9262be81",
   "metadata": {
    "execution": {
     "iopub.execute_input": "2025-02-07T13:16:52.059883Z",
     "iopub.status.busy": "2025-02-07T13:16:52.059557Z",
     "iopub.status.idle": "2025-02-07T13:16:52.232527Z",
     "shell.execute_reply": "2025-02-07T13:16:52.231448Z",
     "shell.execute_reply.started": "2025-02-07T13:16:52.059857Z"
    }
   },
   "outputs": [],
   "source": [
    "Dict2={}\n",
    "arr=['Unknown', 'Christmas Eve',\n",
    "       'Memorial Day for the Victims of the Holocaust',\n",
    "       'Memorial Day for the Martyrs of Arad', 'Easter Monday',\n",
    "       'Labour Day', 'Jan Hus', 'New Years Day', 'Whit sunday',\n",
    "       'Cyrila a Metodej', '1st Christmas Day',\n",
    "       '1848 Revolution Memorial Day (Extra holiday)', 'Den osvobozeni',\n",
    "       'Memorial day of the 1956 Revolution', 'International womens day',\n",
    "       'German Unity Day', 'Peace Festival in Augsburg', 'Whit monday',\n",
    "       'Ascension day', \"All Saints' Day Holiday\",\n",
    "       'Memorial Day of the Republic', 'All Saints Day',\n",
    "       'Den boje za svobodu a demokracii', 'Den ceske statnosti',\n",
    "       'Epiphany', '2nd Christmas Day', 'Corpus Christi',\n",
    "       'Assumption of the Virgin Mary', 'Good Friday',\n",
    "       'State Foundation Day',\n",
    "       'Den vzniku samostatneho ceskoslovenskeho statu',\n",
    "       'Memorial Day for the Victims of the Communist Dictatorships']\n",
    "ctr=1\n",
    "for i in range(len(arr)):\n",
    "    Dict2[arr[i]]=ctr\n",
    "    ctr=ctr+1\n",
    "\n",
    "    \n",
    "train['holiday_name_n']=train['holiday_name'].map(Dict2)\n",
    "test['holiday_name_n']=test['holiday_name'].map(Dict2)"
   ]
  },
  {
   "cell_type": "code",
   "execution_count": 25,
   "id": "388c6460",
   "metadata": {
    "execution": {
     "iopub.execute_input": "2025-02-07T13:17:00.400371Z",
     "iopub.status.busy": "2025-02-07T13:17:00.399957Z",
     "iopub.status.idle": "2025-02-07T13:17:00.673481Z",
     "shell.execute_reply": "2025-02-07T13:17:00.672102Z",
     "shell.execute_reply.started": "2025-02-07T13:17:00.400339Z"
    }
   },
   "outputs": [],
   "source": [
    "Dict3={'Prague_3':1, 'Munich_1':2, 'Prague_1':3, 'Brno_1':4, 'Prague_2':5,\n",
    "       'Frankfurt_1':6, 'Budapest_1':6}\n",
    "train['warehouse_holiday_n']=train['warehouse_holiday'].map(Dict3)\n",
    "test['warehouse_holiday_n']=test['warehouse_holiday'].map(Dict3)"
   ]
  },
  {
   "cell_type": "code",
   "execution_count": 26,
   "id": "6ef8b1ca",
   "metadata": {
    "execution": {
     "iopub.execute_input": "2025-02-07T13:17:06.103899Z",
     "iopub.status.busy": "2025-02-07T13:17:06.103578Z",
     "iopub.status.idle": "2025-02-07T13:17:06.529753Z",
     "shell.execute_reply": "2025-02-07T13:17:06.528737Z",
     "shell.execute_reply.started": "2025-02-07T13:17:06.103873Z"
    }
   },
   "outputs": [],
   "source": [
    "Dict4={}\n",
    "ctr=1\n",
    "arr=train['Prod_Name'].unique()\n",
    "for i in range(len(arr)):\n",
    "    Dict4[arr[i]]=ctr\n",
    "    ctr=ctr+1\n",
    "\n",
    "    \n",
    "train['Prod_name_n']=train['Prod_Name'].map(Dict4)\n",
    "test['Prod_name_n']=test['Prod_Name'].map(Dict4)"
   ]
  },
  {
   "cell_type": "code",
   "execution_count": 27,
   "id": "0a9c73f0",
   "metadata": {
    "execution": {
     "iopub.execute_input": "2025-02-07T13:17:12.895368Z",
     "iopub.status.busy": "2025-02-07T13:17:12.894982Z",
     "iopub.status.idle": "2025-02-07T13:17:13.187584Z",
     "shell.execute_reply": "2025-02-07T13:17:13.186680Z",
     "shell.execute_reply.started": "2025-02-07T13:17:12.895336Z"
    }
   },
   "outputs": [],
   "source": [
    "Dict5={'Bakery':1,'Meat and fish':2,'Fruit and vegetable':3}\n",
    "train['L1_category_name_en_n']=train['L1_category_name_en'].map(Dict5)\n",
    "test['L1_category_name_en_n']=test['L1_category_name_en'].map(Dict5)"
   ]
  },
  {
   "cell_type": "code",
   "execution_count": 28,
   "id": "c66c131f",
   "metadata": {
    "execution": {
     "iopub.execute_input": "2025-02-07T13:17:20.762286Z",
     "iopub.status.busy": "2025-02-07T13:17:20.761935Z",
     "iopub.status.idle": "2025-02-07T13:17:21.036534Z",
     "shell.execute_reply": "2025-02-07T13:17:21.035318Z",
     "shell.execute_reply.started": "2025-02-07T13:17:20.762259Z"
    }
   },
   "outputs": [],
   "source": [
    "arr=['Bakery_L2_18', 'Meat and fish_L2_13', 'Fruit and vegetable_L2_3',\n",
    "       'Bakery_L2_10', 'Fruit and vegetable_L2_1', 'Bakery_L2_44',\n",
    "       'Bakery_L2_7', 'Bakery_L2_9', 'Fruit and vegetable_L2_11',\n",
    "       'Bakery_L2_14', 'Meat and fish_L2_26', 'Bakery_L2_5',\n",
    "       'Fruit and vegetable_L2_0', 'Bakery_L2_8', 'Bakery_L2_22',\n",
    "       'Bakery_L2_21', 'Fruit and vegetable_L2_42', 'Meat and fish_L2_25',\n",
    "       'Fruit and vegetable_L2_30', 'Meat and fish_L2_15',\n",
    "       'Fruit and vegetable_L2_27', 'Fruit and vegetable_L2_2',\n",
    "       'Bakery_L2_34', 'Meat and fish_L2_23', 'Fruit and vegetable_L2_37',\n",
    "       'Bakery_L2_28', 'Fruit and vegetable_L2_4',\n",
    "       'Fruit and vegetable_L2_12', 'Fruit and vegetable_L2_33',\n",
    "       'Fruit and vegetable_L2_17', 'Fruit and vegetable_L2_6',\n",
    "       'Bakery_L2_29', 'Meat and fish_L2_32', 'Fruit and vegetable_L2_41',\n",
    "       'Bakery_L2_35', 'Meat and fish_L2_27', 'Bakery_L2_24',\n",
    "       'Fruit and vegetable_L2_36', 'Fruit and vegetable_L2_43',\n",
    "       'Bakery_L2_40', 'Meat and fish_L2_20', 'Fruit and vegetable_L2_16',\n",
    "       'Fruit and vegetable_L2_31', 'Meat and fish_L2_38',\n",
    "       'Fruit and vegetable_L2_39', 'Fruit and vegetable_L2_19',\n",
    "       'Fruit and vegetable_L2_45']\n",
    "Dict6={}\n",
    "ctr=1\n",
    "for i in range(len(arr)):\n",
    "    Dict6[arr[i]]=ctr\n",
    "    ctr=ctr+1\n",
    "\n",
    "    \n",
    "train['L2_category_name_en_n']=train['L2_category_name_en'].map(Dict6)\n",
    "test['L2_category_name_en_n']=test['L2_category_name_en'].map(Dict6)"
   ]
  },
  {
   "cell_type": "code",
   "execution_count": 29,
   "id": "43afab4a",
   "metadata": {
    "execution": {
     "iopub.execute_input": "2025-02-07T13:17:30.334658Z",
     "iopub.status.busy": "2025-02-07T13:17:30.334307Z",
     "iopub.status.idle": "2025-02-07T13:17:30.811360Z",
     "shell.execute_reply": "2025-02-07T13:17:30.810248Z",
     "shell.execute_reply.started": "2025-02-07T13:17:30.334630Z"
    }
   },
   "outputs": [],
   "source": [
    "arr=train['L3_category_name_en'].unique()\n",
    "ctr=1\n",
    "Dict7={}\n",
    "for i in range(len(arr)):\n",
    "    Dict7[arr[i]]=ctr\n",
    "    ctr=ctr+1\n",
    "\n",
    "    \n",
    "train['L3_category_name_en_n']=train['L3_category_name_en'].map(Dict7)\n",
    "test['L3_category_name_en_n']=test['L3_category_name_en'].map(Dict7)"
   ]
  },
  {
   "cell_type": "code",
   "execution_count": 30,
   "id": "1e962134",
   "metadata": {
    "execution": {
     "iopub.execute_input": "2025-02-07T13:17:36.438131Z",
     "iopub.status.busy": "2025-02-07T13:17:36.437788Z",
     "iopub.status.idle": "2025-02-07T13:17:36.870577Z",
     "shell.execute_reply": "2025-02-07T13:17:36.869707Z",
     "shell.execute_reply.started": "2025-02-07T13:17:36.438102Z"
    }
   },
   "outputs": [],
   "source": [
    "arr=train['L4_category_name_en'].unique()\n",
    "ctr=1\n",
    "Dict8={}\n",
    "for i in range(len(arr)):\n",
    "    Dict8[arr[i]]=ctr\n",
    "    ctr=ctr+1\n",
    "\n",
    "    \n",
    "train['L4_category_name_en_n']=train['L4_category_name_en'].map(Dict8)\n",
    "test['L4_category_name_en_n']=test['L4_category_name_en'].map(Dict8)"
   ]
  },
  {
   "cell_type": "code",
   "execution_count": 33,
   "id": "e661926c-de7c-4a69-9811-2a022c26544b",
   "metadata": {
    "execution": {
     "iopub.execute_input": "2025-02-07T13:21:51.444341Z",
     "iopub.status.busy": "2025-02-07T13:21:51.443974Z",
     "iopub.status.idle": "2025-02-07T13:21:53.933464Z",
     "shell.execute_reply": "2025-02-07T13:21:53.932424Z",
     "shell.execute_reply.started": "2025-02-07T13:21:51.444314Z"
    }
   },
   "outputs": [],
   "source": [
    "train_re=train.copy()\n",
    "test_re=test.copy()"
   ]
  },
  {
   "cell_type": "code",
   "execution_count": 31,
   "id": "a36debe0",
   "metadata": {},
   "outputs": [
    {
     "name": "stdout",
     "output_type": "stream",
     "text": [
      "<class 'pandas.core.frame.DataFrame'>\n",
      "RangeIndex: 4007419 entries, 0 to 4007418\n",
      "Data columns (total 46 columns):\n",
      " #   Column                  Dtype         \n",
      "---  ------                  -----         \n",
      " 0   unique_id               int64         \n",
      " 1   date                    datetime64[ns]\n",
      " 2   warehouse               object        \n",
      " 3   total_orders            float64       \n",
      " 4   sales                   float64       \n",
      " 5   sell_price_main         float64       \n",
      " 6   availability            float64       \n",
      " 7   type_0_discount         float64       \n",
      " 8   type_1_discount         float64       \n",
      " 9   type_2_discount         float64       \n",
      " 10  type_3_discount         float64       \n",
      " 11  type_4_discount         float64       \n",
      " 12  type_5_discount         float64       \n",
      " 13  type_6_discount         float64       \n",
      " 14  holiday_name            object        \n",
      " 15  holiday                 int64         \n",
      " 16  shops_closed            int64         \n",
      " 17  winter_school_holidays  int64         \n",
      " 18  school_holidays         int64         \n",
      " 19  warehouse_holiday       object        \n",
      " 20  product_unique_id       int64         \n",
      " 21  Prod_Name               object        \n",
      " 22  L1_category_name_en     object        \n",
      " 23  L2_category_name_en     object        \n",
      " 24  L3_category_name_en     object        \n",
      " 25  L4_category_name_en     object        \n",
      " 26  Year                    int64         \n",
      " 27  Month                   int64         \n",
      " 28  Day                     int64         \n",
      " 29  total_orders_Q          category      \n",
      " 30  type_0_discount_Q       category      \n",
      " 31  type_1_discount_Q       category      \n",
      " 32  type_2_discount_Q       category      \n",
      " 33  type_3_discount_Q       category      \n",
      " 34  type_4_discount_Q       category      \n",
      " 35  type_5_discount_Q       category      \n",
      " 36  type_6_discount_Q       category      \n",
      " 37  sell_price_main_Q       category      \n",
      " 38  warehoue_n              int64         \n",
      " 39  holiday_name_n          float64       \n",
      " 40  warehouse_holiday_n     int64         \n",
      " 41  Prod_name_n             int64         \n",
      " 42  L1_category_name_en_n   int64         \n",
      " 43  L2_category_name_en_n   int64         \n",
      " 44  L3_category_name_en_n   int64         \n",
      " 45  L4_category_name_en_n   int64         \n",
      "dtypes: category(9), datetime64[ns](1), float64(12), int64(16), object(8)\n",
      "memory usage: 1.1+ GB\n"
     ]
    }
   ],
   "source": [
    "train.info()"
   ]
  },
  {
   "cell_type": "code",
   "execution_count": 32,
   "id": "89dad63a",
   "metadata": {},
   "outputs": [
    {
     "name": "stdout",
     "output_type": "stream",
     "text": [
      "<class 'pandas.core.frame.DataFrame'>\n",
      "RangeIndex: 47021 entries, 0 to 47020\n",
      "Data columns (total 44 columns):\n",
      " #   Column                  Non-Null Count  Dtype         \n",
      "---  ------                  --------------  -----         \n",
      " 0   unique_id               47021 non-null  int64         \n",
      " 1   date                    47021 non-null  datetime64[ns]\n",
      " 2   warehouse               47021 non-null  object        \n",
      " 3   total_orders            47021 non-null  float64       \n",
      " 4   sell_price_main         47021 non-null  float64       \n",
      " 5   type_0_discount         47021 non-null  float64       \n",
      " 6   type_1_discount         47021 non-null  float64       \n",
      " 7   type_2_discount         47021 non-null  float64       \n",
      " 8   type_3_discount         47021 non-null  float64       \n",
      " 9   type_4_discount         47021 non-null  float64       \n",
      " 10  type_5_discount         47021 non-null  float64       \n",
      " 11  type_6_discount         47021 non-null  float64       \n",
      " 12  holiday_name            47021 non-null  object        \n",
      " 13  holiday                 47021 non-null  int64         \n",
      " 14  shops_closed            47021 non-null  int64         \n",
      " 15  winter_school_holidays  47021 non-null  int64         \n",
      " 16  school_holidays         47021 non-null  int64         \n",
      " 17  warehouse_holiday       47021 non-null  object        \n",
      " 18  product_unique_id       47021 non-null  int64         \n",
      " 19  Prod_Name               47021 non-null  object        \n",
      " 20  L1_category_name_en     47021 non-null  object        \n",
      " 21  L2_category_name_en     47021 non-null  object        \n",
      " 22  L3_category_name_en     47021 non-null  object        \n",
      " 23  L4_category_name_en     47021 non-null  object        \n",
      " 24  Year                    47021 non-null  int64         \n",
      " 25  Month                   47021 non-null  int64         \n",
      " 26  Day                     47021 non-null  int64         \n",
      " 27  type_0_discount_Q       47021 non-null  category      \n",
      " 28  total_orders_Q          47021 non-null  category      \n",
      " 29  type_1_discount_Q       47021 non-null  category      \n",
      " 30  type_2_discount_Q       47021 non-null  category      \n",
      " 31  type_3_discount_Q       47021 non-null  category      \n",
      " 32  type_4_discount_Q       47021 non-null  category      \n",
      " 33  type_5_discount_Q       47021 non-null  category      \n",
      " 34  type_6_discount_Q       47021 non-null  category      \n",
      " 35  sell_price_main_Q       47021 non-null  category      \n",
      " 36  warehoue_n              47021 non-null  int64         \n",
      " 37  holiday_name_n          0 non-null      float64       \n",
      " 38  warehouse_holiday_n     47021 non-null  int64         \n",
      " 39  Prod_name_n             47021 non-null  int64         \n",
      " 40  L1_category_name_en_n   47021 non-null  int64         \n",
      " 41  L2_category_name_en_n   47021 non-null  int64         \n",
      " 42  L3_category_name_en_n   47021 non-null  int64         \n",
      " 43  L4_category_name_en_n   47021 non-null  int64         \n",
      "dtypes: category(9), datetime64[ns](1), float64(10), int64(16), object(8)\n",
      "memory usage: 13.0+ MB\n"
     ]
    }
   ],
   "source": [
    "test.info()"
   ]
  },
  {
   "cell_type": "markdown",
   "id": "98efafd1",
   "metadata": {},
   "source": [
    "## Splitting Data"
   ]
  },
  {
   "cell_type": "code",
   "execution_count": 49,
   "id": "9ba649c3",
   "metadata": {},
   "outputs": [],
   "source": [
    "train.drop(columns={'date','holiday_name','warehouse_holiday','availability','warehouse','Prod_Name','L1_category_name_en','L2_category_name_en', 'L3_category_name_en','L4_category_name_en','type_0_discount_Q','total_orders_Q','type_1_discount_Q','type_2_discount_Q','type_3_discount_Q','type_4_discount_Q','type_5_discount_Q','type_6_discount_Q','sell_price_main_Q'},inplace=True)\n",
    "test.drop(columns={'date','holiday_name','warehouse_holiday','warehouse','Prod_Name','L1_category_name_en','L2_category_name_en', 'L3_category_name_en','L4_category_name_en','type_0_discount_Q','total_orders_Q','type_1_discount_Q','type_2_discount_Q','type_3_discount_Q','type_4_discount_Q','type_5_discount_Q','type_6_discount_Q','sell_price_main_Q'},inplace=True)"
   ]
  },
  {
   "cell_type": "code",
   "execution_count": 40,
   "id": "5bff6f3b",
   "metadata": {},
   "outputs": [
    {
     "name": "stdout",
     "output_type": "stream",
     "text": [
      "27\n",
      "26\n"
     ]
    }
   ],
   "source": [
    "print(len(train.columns))\n",
    "print(len(test.columns))"
   ]
  },
  {
   "cell_type": "code",
   "execution_count": 50,
   "id": "a2497045",
   "metadata": {
    "execution": {
     "iopub.execute_input": "2025-02-07T10:57:39.139703Z",
     "iopub.status.busy": "2025-02-07T10:57:39.139356Z",
     "iopub.status.idle": "2025-02-07T10:57:39.467232Z",
     "shell.execute_reply": "2025-02-07T10:57:39.466253Z",
     "shell.execute_reply.started": "2025-02-07T10:57:39.139672Z"
    }
   },
   "outputs": [],
   "source": [
    "X=train.drop(columns=['sales'])\n",
    "y=train['sales']"
   ]
  },
  {
   "cell_type": "code",
   "execution_count": 51,
   "id": "536842f1",
   "metadata": {
    "execution": {
     "iopub.execute_input": "2025-02-07T10:57:44.343929Z",
     "iopub.status.busy": "2025-02-07T10:57:44.343527Z",
     "iopub.status.idle": "2025-02-07T10:57:46.704550Z",
     "shell.execute_reply": "2025-02-07T10:57:46.703161Z",
     "shell.execute_reply.started": "2025-02-07T10:57:44.343897Z"
    }
   },
   "outputs": [],
   "source": [
    "X_train,X_val,y_train,y_val=train_test_split(X,y,test_size=0.2,random_state=42)\n"
   ]
  },
  {
   "cell_type": "code",
   "execution_count": 43,
   "id": "3dbc19b4",
   "metadata": {},
   "outputs": [
    {
     "name": "stdout",
     "output_type": "stream",
     "text": [
      "26\n",
      "26\n"
     ]
    }
   ],
   "source": [
    "print(len(X.columns))\n",
    "print(len(test.columns))"
   ]
  },
  {
   "cell_type": "markdown",
   "id": "4dd0efed",
   "metadata": {},
   "source": [
    "## LightGBM"
   ]
  },
  {
   "cell_type": "code",
   "execution_count": 52,
   "id": "ade2aca5",
   "metadata": {
    "execution": {
     "iopub.execute_input": "2025-02-07T10:57:59.071177Z",
     "iopub.status.busy": "2025-02-07T10:57:59.070839Z",
     "iopub.status.idle": "2025-02-07T10:57:59.075880Z",
     "shell.execute_reply": "2025-02-07T10:57:59.074608Z",
     "shell.execute_reply.started": "2025-02-07T10:57:59.071150Z"
    }
   },
   "outputs": [],
   "source": [
    "n_splits=5\n",
    "lgb_params={\n",
    "    'objective':'regression',\n",
    "    'metric':'MAE',\n",
    "    'boosting_type':'gbdt',\n",
    "    'num_leaves':20,\n",
    "    'max_depth':5,\n",
    "    'learning_rate':0.01,\n",
    "    'n_estimators':1000,\n",
    "    'early_stopping_rounds':50,\n",
    "    'random_state':42\n",
    "}"
   ]
  },
  {
   "cell_type": "code",
   "execution_count": 53,
   "id": "f0c6cbbc",
   "metadata": {
    "execution": {
     "iopub.execute_input": "2025-02-07T10:58:02.121881Z",
     "iopub.status.busy": "2025-02-07T10:58:02.121461Z",
     "iopub.status.idle": "2025-02-07T10:58:02.127865Z",
     "shell.execute_reply": "2025-02-07T10:58:02.126604Z",
     "shell.execute_reply.started": "2025-02-07T10:58:02.121844Z"
    }
   },
   "outputs": [],
   "source": [
    "lgb_predictions=np.zeros(len(test))\n",
    "\n",
    "kf=KFold(n_splits=n_splits,shuffle=True,random_state=42)\n",
    "\n",
    "def acc_score(y_true,y_pred):\n",
    "    return np.mean(np.abs(y_true,np.maximum(y_pred,0)))"
   ]
  },
  {
   "cell_type": "code",
   "execution_count": 54,
   "id": "2392103a",
   "metadata": {
    "execution": {
     "iopub.execute_input": "2025-02-07T10:58:06.793609Z",
     "iopub.status.busy": "2025-02-07T10:58:06.793207Z",
     "iopub.status.idle": "2025-02-07T11:14:58.192196Z",
     "shell.execute_reply": "2025-02-07T11:14:58.191011Z",
     "shell.execute_reply.started": "2025-02-07T10:58:06.793574Z"
    }
   },
   "outputs": [
    {
     "name": "stdout",
     "output_type": "stream",
     "text": [
      "[LightGBM] [Warning] early_stopping_round is set=50, early_stopping_rounds=50 will be ignored. Current value: early_stopping_round=50\n",
      "[LightGBM] [Info] Auto-choosing row-wise multi-threading, the overhead of testing was 0.146815 seconds.\n",
      "You can set `force_row_wise=true` to remove the overhead.\n",
      "And if memory is not enough, you can set `force_col_wise=true`.\n",
      "[LightGBM] [Info] Total Bins 2755\n",
      "[LightGBM] [Info] Number of data points in the train set: 3205935, number of used features: 26\n",
      "[LightGBM] [Warning] early_stopping_round is set=50, early_stopping_rounds=50 will be ignored. Current value: early_stopping_round=50\n",
      "[LightGBM] [Info] Start training from score 3.767853\n",
      "Training until validation scores don't improve for 50 rounds\n",
      "Did not meet early stopping. Best iteration is:\n",
      "[1000]\tvalid_0's l1: 0.669412\n",
      "108.89136637786902\n",
      "[LightGBM] [Warning] early_stopping_round is set=50, early_stopping_rounds=50 will be ignored. Current value: early_stopping_round=50\n",
      "[LightGBM] [Info] Auto-choosing row-wise multi-threading, the overhead of testing was 0.213019 seconds.\n",
      "You can set `force_row_wise=true` to remove the overhead.\n",
      "And if memory is not enough, you can set `force_col_wise=true`.\n",
      "[LightGBM] [Info] Total Bins 2751\n",
      "[LightGBM] [Info] Number of data points in the train set: 3205935, number of used features: 26\n",
      "[LightGBM] [Warning] early_stopping_round is set=50, early_stopping_rounds=50 will be ignored. Current value: early_stopping_round=50\n",
      "[LightGBM] [Info] Start training from score 3.768871\n",
      "Training until validation scores don't improve for 50 rounds\n",
      "Did not meet early stopping. Best iteration is:\n",
      "[1000]\tvalid_0's l1: 0.671193\n",
      "107.95249911414327\n",
      "[LightGBM] [Warning] early_stopping_round is set=50, early_stopping_rounds=50 will be ignored. Current value: early_stopping_round=50\n",
      "[LightGBM] [Info] Auto-choosing row-wise multi-threading, the overhead of testing was 0.216974 seconds.\n",
      "You can set `force_row_wise=true` to remove the overhead.\n",
      "And if memory is not enough, you can set `force_col_wise=true`.\n",
      "[LightGBM] [Info] Total Bins 2760\n",
      "[LightGBM] [Info] Number of data points in the train set: 3205935, number of used features: 26\n",
      "[LightGBM] [Warning] early_stopping_round is set=50, early_stopping_rounds=50 will be ignored. Current value: early_stopping_round=50\n",
      "[LightGBM] [Info] Start training from score 3.768380\n",
      "Training until validation scores don't improve for 50 rounds\n",
      "Did not meet early stopping. Best iteration is:\n",
      "[1000]\tvalid_0's l1: 0.671325\n",
      "108.1993993017952\n",
      "[LightGBM] [Warning] early_stopping_round is set=50, early_stopping_rounds=50 will be ignored. Current value: early_stopping_round=50\n",
      "[LightGBM] [Info] Auto-choosing row-wise multi-threading, the overhead of testing was 0.181775 seconds.\n",
      "You can set `force_row_wise=true` to remove the overhead.\n",
      "And if memory is not enough, you can set `force_col_wise=true`.\n",
      "[LightGBM] [Info] Total Bins 2760\n",
      "[LightGBM] [Info] Number of data points in the train set: 3205935, number of used features: 26\n",
      "[LightGBM] [Warning] early_stopping_round is set=50, early_stopping_rounds=50 will be ignored. Current value: early_stopping_round=50\n",
      "[LightGBM] [Info] Start training from score 3.768052\n",
      "Training until validation scores don't improve for 50 rounds\n",
      "Did not meet early stopping. Best iteration is:\n",
      "[1000]\tvalid_0's l1: 0.669136\n",
      "108.75002200917307\n",
      "[LightGBM] [Warning] early_stopping_round is set=50, early_stopping_rounds=50 will be ignored. Current value: early_stopping_round=50\n",
      "[LightGBM] [Info] Auto-choosing row-wise multi-threading, the overhead of testing was 0.193162 seconds.\n",
      "You can set `force_row_wise=true` to remove the overhead.\n",
      "And if memory is not enough, you can set `force_col_wise=true`.\n",
      "[LightGBM] [Info] Total Bins 2751\n",
      "[LightGBM] [Info] Number of data points in the train set: 3205936, number of used features: 26\n",
      "[LightGBM] [Warning] early_stopping_round is set=50, early_stopping_rounds=50 will be ignored. Current value: early_stopping_round=50\n",
      "[LightGBM] [Info] Start training from score 3.768313\n",
      "Training until validation scores don't improve for 50 rounds\n",
      "Did not meet early stopping. Best iteration is:\n",
      "[1000]\tvalid_0's l1: 0.668041\n",
      "108.10601052049763\n"
     ]
    }
   ],
   "source": [
    "for fold,(train_idx,val_idx) in enumerate(kf.split(X)):\n",
    "    X_train,X_val=X.iloc[train_idx],X.iloc[val_idx]\n",
    "    y_train,y_val=y.iloc[train_idx],y.iloc[val_idx]\n",
    "    #lightgbm\n",
    "    lgb_model=lgb.LGBMRegressor(**lgb_params)\n",
    "    lgb_model.fit(X_train, np.log1p(y_train),eval_set=[(X_val, np.log1p(y_val))])\n",
    "    \n",
    "    lgb_val_pred=lgb_model.predict(X_val)\n",
    "    print(acc_score(y_val,lgb_val_pred))\n",
    "    lgb_predictions+=lgb_model.predict(test)/n_splits\n",
    "    "
   ]
  },
  {
   "cell_type": "code",
   "execution_count": 55,
   "id": "145d9901",
   "metadata": {
    "execution": {
     "iopub.execute_input": "2025-02-07T11:15:27.358101Z",
     "iopub.status.busy": "2025-02-07T11:15:27.357661Z",
     "iopub.status.idle": "2025-02-07T11:15:27.365045Z",
     "shell.execute_reply": "2025-02-07T11:15:27.363832Z",
     "shell.execute_reply.started": "2025-02-07T11:15:27.358068Z"
    }
   },
   "outputs": [
    {
     "data": {
      "text/plain": [
       "array([3.53834547, 4.18894402, 4.30388845, ..., 4.90758926, 4.78553721,\n",
       "       3.59584597])"
      ]
     },
     "execution_count": 55,
     "metadata": {},
     "output_type": "execute_result"
    }
   ],
   "source": [
    "lgb_predictions"
   ]
  },
  {
   "cell_type": "code",
   "execution_count": 56,
   "id": "c278542a",
   "metadata": {
    "execution": {
     "iopub.execute_input": "2025-02-07T11:15:30.750461Z",
     "iopub.status.busy": "2025-02-07T11:15:30.750105Z",
     "iopub.status.idle": "2025-02-07T11:15:30.758536Z",
     "shell.execute_reply": "2025-02-07T11:15:30.757549Z",
     "shell.execute_reply.started": "2025-02-07T11:15:30.750428Z"
    }
   },
   "outputs": [
    {
     "data": {
      "text/plain": [
       "array([ 34.40993965,  65.95310912,  73.98692925, ..., 135.31281716,\n",
       "       119.7656853 ,  36.44651954])"
      ]
     },
     "execution_count": 56,
     "metadata": {},
     "output_type": "execute_result"
    }
   ],
   "source": [
    "np.exp(lgb_predictions)"
   ]
  },
  {
   "cell_type": "markdown",
   "id": "445efeac-9e35-4b97-a500-cadc8391ecef",
   "metadata": {},
   "source": [
    "## Cat Boost"
   ]
  },
  {
   "cell_type": "code",
   "execution_count": 41,
   "id": "3e59bb31",
   "metadata": {},
   "outputs": [
    {
     "name": "stdout",
     "output_type": "stream",
     "text": [
      "<class 'pandas.core.frame.DataFrame'>\n",
      "RangeIndex: 4007419 entries, 0 to 4007418\n",
      "Data columns (total 46 columns):\n",
      " #   Column                  Dtype         \n",
      "---  ------                  -----         \n",
      " 0   unique_id               int64         \n",
      " 1   date                    datetime64[ns]\n",
      " 2   warehouse               object        \n",
      " 3   total_orders            float64       \n",
      " 4   sales                   float64       \n",
      " 5   sell_price_main         float64       \n",
      " 6   availability            float64       \n",
      " 7   type_0_discount         float64       \n",
      " 8   type_1_discount         float64       \n",
      " 9   type_2_discount         float64       \n",
      " 10  type_3_discount         float64       \n",
      " 11  type_4_discount         float64       \n",
      " 12  type_5_discount         float64       \n",
      " 13  type_6_discount         float64       \n",
      " 14  holiday_name            object        \n",
      " 15  holiday                 int64         \n",
      " 16  shops_closed            int64         \n",
      " 17  winter_school_holidays  int64         \n",
      " 18  school_holidays         int64         \n",
      " 19  warehouse_holiday       object        \n",
      " 20  product_unique_id       int64         \n",
      " 21  Prod_Name               object        \n",
      " 22  L1_category_name_en     object        \n",
      " 23  L2_category_name_en     object        \n",
      " 24  L3_category_name_en     object        \n",
      " 25  L4_category_name_en     object        \n",
      " 26  Year                    int64         \n",
      " 27  Month                   int64         \n",
      " 28  Day                     int64         \n",
      " 29  total_orders_Q          category      \n",
      " 30  type_0_discount_Q       category      \n",
      " 31  type_1_discount_Q       category      \n",
      " 32  type_2_discount_Q       category      \n",
      " 33  type_3_discount_Q       category      \n",
      " 34  type_4_discount_Q       category      \n",
      " 35  type_5_discount_Q       category      \n",
      " 36  type_6_discount_Q       category      \n",
      " 37  sell_price_main_Q       category      \n",
      " 38  warehoue_n              int64         \n",
      " 39  holiday_name_n          float64       \n",
      " 40  warehouse_holiday_n     int64         \n",
      " 41  Prod_name_n             int64         \n",
      " 42  L1_category_name_en_n   int64         \n",
      " 43  L2_category_name_en_n   int64         \n",
      " 44  L3_category_name_en_n   int64         \n",
      " 45  L4_category_name_en_n   int64         \n",
      "dtypes: category(9), datetime64[ns](1), float64(12), int64(16), object(8)\n",
      "memory usage: 1.1+ GB\n"
     ]
    }
   ],
   "source": [
    "train_re.info()"
   ]
  },
  {
   "cell_type": "code",
   "execution_count": 42,
   "id": "728e860a",
   "metadata": {},
   "outputs": [
    {
     "name": "stdout",
     "output_type": "stream",
     "text": [
      "<class 'pandas.core.frame.DataFrame'>\n",
      "RangeIndex: 47021 entries, 0 to 47020\n",
      "Data columns (total 44 columns):\n",
      " #   Column                  Non-Null Count  Dtype         \n",
      "---  ------                  --------------  -----         \n",
      " 0   unique_id               47021 non-null  int64         \n",
      " 1   date                    47021 non-null  datetime64[ns]\n",
      " 2   warehouse               47021 non-null  object        \n",
      " 3   total_orders            47021 non-null  float64       \n",
      " 4   sell_price_main         47021 non-null  float64       \n",
      " 5   type_0_discount         47021 non-null  float64       \n",
      " 6   type_1_discount         47021 non-null  float64       \n",
      " 7   type_2_discount         47021 non-null  float64       \n",
      " 8   type_3_discount         47021 non-null  float64       \n",
      " 9   type_4_discount         47021 non-null  float64       \n",
      " 10  type_5_discount         47021 non-null  float64       \n",
      " 11  type_6_discount         47021 non-null  float64       \n",
      " 12  holiday_name            47021 non-null  object        \n",
      " 13  holiday                 47021 non-null  int64         \n",
      " 14  shops_closed            47021 non-null  int64         \n",
      " 15  winter_school_holidays  47021 non-null  int64         \n",
      " 16  school_holidays         47021 non-null  int64         \n",
      " 17  warehouse_holiday       47021 non-null  object        \n",
      " 18  product_unique_id       47021 non-null  int64         \n",
      " 19  Prod_Name               47021 non-null  object        \n",
      " 20  L1_category_name_en     47021 non-null  object        \n",
      " 21  L2_category_name_en     47021 non-null  object        \n",
      " 22  L3_category_name_en     47021 non-null  object        \n",
      " 23  L4_category_name_en     47021 non-null  object        \n",
      " 24  Year                    47021 non-null  int64         \n",
      " 25  Month                   47021 non-null  int64         \n",
      " 26  Day                     47021 non-null  int64         \n",
      " 27  type_0_discount_Q       47021 non-null  category      \n",
      " 28  total_orders_Q          47021 non-null  category      \n",
      " 29  type_1_discount_Q       47021 non-null  category      \n",
      " 30  type_2_discount_Q       47021 non-null  category      \n",
      " 31  type_3_discount_Q       47021 non-null  category      \n",
      " 32  type_4_discount_Q       47021 non-null  category      \n",
      " 33  type_5_discount_Q       47021 non-null  category      \n",
      " 34  type_6_discount_Q       47021 non-null  category      \n",
      " 35  sell_price_main_Q       47021 non-null  category      \n",
      " 36  warehoue_n              47021 non-null  int64         \n",
      " 37  holiday_name_n          0 non-null      float64       \n",
      " 38  warehouse_holiday_n     47021 non-null  int64         \n",
      " 39  Prod_name_n             47021 non-null  int64         \n",
      " 40  L1_category_name_en_n   47021 non-null  int64         \n",
      " 41  L2_category_name_en_n   47021 non-null  int64         \n",
      " 42  L3_category_name_en_n   47021 non-null  int64         \n",
      " 43  L4_category_name_en_n   47021 non-null  int64         \n",
      "dtypes: category(9), datetime64[ns](1), float64(10), int64(16), object(8)\n",
      "memory usage: 13.0+ MB\n"
     ]
    }
   ],
   "source": [
    "test_re.info()"
   ]
  },
  {
   "cell_type": "code",
   "execution_count": 34,
   "id": "559a2aa4",
   "metadata": {},
   "outputs": [],
   "source": [
    "train_re.drop(columns={'warehouse','availability','Prod_Name','warehouse_holiday','date','L1_category_name_en','L2_category_name_en', 'L3_category_name_en','L4_category_name_en'},inplace=True)"
   ]
  },
  {
   "cell_type": "code",
   "execution_count": 36,
   "id": "c669aacc",
   "metadata": {},
   "outputs": [],
   "source": [
    "test_re.drop(columns={'warehouse','date','Prod_Name','warehouse_holiday',\n",
    "       'L1_category_name_en','L2_category_name_en', 'L3_category_name_en','L4_category_name_en'},inplace=True)"
   ]
  },
  {
   "cell_type": "code",
   "execution_count": 37,
   "id": "82b67093",
   "metadata": {},
   "outputs": [
    {
     "name": "stdout",
     "output_type": "stream",
     "text": [
      "37\n",
      "36\n"
     ]
    }
   ],
   "source": [
    "print(len(train_re.columns))\n",
    "print(len(test_re.columns))"
   ]
  },
  {
   "cell_type": "code",
   "execution_count": 38,
   "id": "1e204d74",
   "metadata": {
    "execution": {
     "iopub.execute_input": "2025-02-07T13:40:40.935085Z",
     "iopub.status.busy": "2025-02-07T13:40:40.934769Z",
     "iopub.status.idle": "2025-02-07T13:40:45.477730Z",
     "shell.execute_reply": "2025-02-07T13:40:45.476609Z",
     "shell.execute_reply.started": "2025-02-07T13:40:40.935062Z"
    }
   },
   "outputs": [],
   "source": [
    "X=train_re.drop(columns='sales')\n",
    "y=train_re['sales']\n",
    "X_train,X_val,y_train,y_val=train_test_split(X,y,test_size=0.2,random_state=42)\n",
    "\n",
    "cat_features=[\n",
    " 'holiday_name',\n",
    " 'type_0_discount_Q','total_orders_Q','type_1_discount_Q','type_2_discount_Q','type_3_discount_Q','type_4_discount_Q',\n",
    " 'type_5_discount_Q',\n",
    " 'type_6_discount_Q',\n",
    " 'sell_price_main_Q']"
   ]
  },
  {
   "cell_type": "code",
   "execution_count": 39,
   "id": "65f2860b",
   "metadata": {
    "execution": {
     "iopub.execute_input": "2025-02-07T13:41:12.478867Z",
     "iopub.status.busy": "2025-02-07T13:41:12.478512Z",
     "iopub.status.idle": "2025-02-07T13:41:12.483643Z",
     "shell.execute_reply": "2025-02-07T13:41:12.482590Z",
     "shell.execute_reply.started": "2025-02-07T13:41:12.478839Z"
    }
   },
   "outputs": [],
   "source": [
    "params={\n",
    "    'iterations':600,\n",
    "    'learning_rate':0.1,\n",
    "    'depth':3,\n",
    "    'loss_function':'MAE',\n",
    "    'random_seed':42,\n",
    "    'verbose':100,\n",
    "    'early_stopping_rounds':50\n",
    "    \n",
    "}"
   ]
  },
  {
   "cell_type": "code",
   "execution_count": 40,
   "id": "8a138c10",
   "metadata": {
    "execution": {
     "iopub.execute_input": "2025-02-07T13:42:00.626875Z",
     "iopub.status.busy": "2025-02-07T13:42:00.626502Z",
     "iopub.status.idle": "2025-02-07T13:42:00.631699Z",
     "shell.execute_reply": "2025-02-07T13:42:00.630559Z",
     "shell.execute_reply.started": "2025-02-07T13:42:00.626844Z"
    }
   },
   "outputs": [],
   "source": [
    "cb_predictions=np.zeros(len(test_re))"
   ]
  },
  {
   "cell_type": "code",
   "execution_count": 41,
   "id": "41d0b568",
   "metadata": {
    "execution": {
     "iopub.execute_input": "2025-02-07T13:45:28.845709Z",
     "iopub.status.busy": "2025-02-07T13:45:28.845343Z",
     "iopub.status.idle": "2025-02-07T14:04:13.042173Z",
     "shell.execute_reply": "2025-02-07T14:04:13.040371Z",
     "shell.execute_reply.started": "2025-02-07T13:45:28.845678Z"
    }
   },
   "outputs": [
    {
     "name": "stderr",
     "output_type": "stream",
     "text": [
      "Warning: Overfitting detector is active, thus evaluation metric is calculated on every iteration. 'metric_period' is ignored for evaluation metric.\n"
     ]
    },
    {
     "name": "stdout",
     "output_type": "stream",
     "text": [
      "0:\tlearn: 0.9767624\ttest: 105.3275526\tbest: 105.3275526 (0)\ttotal: 1.76s\tremaining: 17m 33s\n",
      "100:\tlearn: 0.7751551\ttest: 105.2454899\tbest: 105.2454899 (100)\ttotal: 2m 54s\tremaining: 14m 23s\n",
      "200:\tlearn: 0.7318992\ttest: 105.2233605\tbest: 105.2233605 (200)\ttotal: 5m 42s\tremaining: 11m 20s\n",
      "300:\tlearn: 0.7019312\ttest: 105.2102226\tbest: 105.2102226 (300)\ttotal: 8m 32s\tremaining: 8m 29s\n",
      "400:\tlearn: 0.6787102\ttest: 105.2024921\tbest: 105.2024921 (400)\ttotal: 11m 26s\tremaining: 5m 40s\n",
      "500:\tlearn: 0.6597515\ttest: 105.1960430\tbest: 105.1959925 (499)\ttotal: 14m 17s\tremaining: 2m 49s\n",
      "599:\tlearn: 0.6429489\ttest: 105.1901642\tbest: 105.1901642 (599)\ttotal: 17m 6s\tremaining: 0us\n",
      "\n",
      "bestTest = 105.1901642\n",
      "bestIteration = 599\n",
      "\n",
      "Fold1:MAE:105.1412622109219\n",
      "Mean Absolute Error 105.1412622109219\n"
     ]
    },
    {
     "name": "stderr",
     "output_type": "stream",
     "text": [
      "Warning: Overfitting detector is active, thus evaluation metric is calculated on every iteration. 'metric_period' is ignored for evaluation metric.\n"
     ]
    },
    {
     "name": "stdout",
     "output_type": "stream",
     "text": [
      "0:\tlearn: 0.9765009\ttest: 105.3269747\tbest: 105.3269747 (0)\ttotal: 2.45s\tremaining: 24m 26s\n",
      "100:\tlearn: 0.7748852\ttest: 105.2455432\tbest: 105.2455432 (100)\ttotal: 2m 57s\tremaining: 14m 36s\n",
      "200:\tlearn: 0.7303676\ttest: 105.2232640\tbest: 105.2232640 (200)\ttotal: 5m 45s\tremaining: 11m 25s\n",
      "300:\tlearn: 0.7038642\ttest: 105.2130694\tbest: 105.2130217 (299)\ttotal: 8m 35s\tremaining: 8m 32s\n",
      "400:\tlearn: 0.6800981\ttest: 105.2046025\tbest: 105.2044977 (399)\ttotal: 11m 24s\tremaining: 5m 39s\n",
      "500:\tlearn: 0.6605429\ttest: 105.1976925\tbest: 105.1976784 (499)\ttotal: 14m 13s\tremaining: 2m 48s\n",
      "599:\tlearn: 0.6433195\ttest: 105.1919479\tbest: 105.1919479 (599)\ttotal: 16m 58s\tremaining: 0us\n",
      "\n",
      "bestTest = 105.1919479\n",
      "bestIteration = 599\n",
      "\n",
      "Fold2:MAE:104.01478796699024\n",
      "Mean Absolute Error 104.57802508895607\n"
     ]
    },
    {
     "name": "stderr",
     "output_type": "stream",
     "text": [
      "Warning: Overfitting detector is active, thus evaluation metric is calculated on every iteration. 'metric_period' is ignored for evaluation metric.\n"
     ]
    },
    {
     "name": "stdout",
     "output_type": "stream",
     "text": [
      "0:\tlearn: 0.9766142\ttest: 105.3271358\tbest: 105.3271358 (0)\ttotal: 3s\tremaining: 29m 56s\n",
      "100:\tlearn: 0.7737808\ttest: 105.2467839\tbest: 105.2467839 (100)\ttotal: 3m\tremaining: 14m 50s\n",
      "200:\tlearn: 0.7313299\ttest: 105.2258182\tbest: 105.2258182 (200)\ttotal: 5m 53s\tremaining: 11m 40s\n",
      "300:\tlearn: 0.7044886\ttest: 105.2148670\tbest: 105.2148670 (300)\ttotal: 8m 47s\tremaining: 8m 43s\n",
      "400:\tlearn: 0.6823336\ttest: 105.2066070\tbest: 105.2066070 (400)\ttotal: 11m 40s\tremaining: 5m 47s\n",
      "500:\tlearn: 0.6616984\ttest: 105.1990290\tbest: 105.1989255 (498)\ttotal: 14m 29s\tremaining: 2m 51s\n",
      "599:\tlearn: 0.6448059\ttest: 105.1930540\tbest: 105.1930540 (599)\ttotal: 17m 10s\tremaining: 0us\n",
      "\n",
      "bestTest = 105.193054\n",
      "bestIteration = 599\n",
      "\n",
      "Fold3:MAE:104.70799281098375\n",
      "Mean Absolute Error 104.6213476629653\n"
     ]
    },
    {
     "name": "stderr",
     "output_type": "stream",
     "text": [
      "Warning: Overfitting detector is active, thus evaluation metric is calculated on every iteration. 'metric_period' is ignored for evaluation metric.\n"
     ]
    },
    {
     "name": "stdout",
     "output_type": "stream",
     "text": [
      "0:\tlearn: 0.9768389\ttest: 105.3267090\tbest: 105.3267090 (0)\ttotal: 3.46s\tremaining: 34m 32s\n",
      "100:\tlearn: 0.7752500\ttest: 105.2469992\tbest: 105.2469992 (100)\ttotal: 2m 51s\tremaining: 14m 5s\n",
      "200:\tlearn: 0.7323413\ttest: 105.2241921\tbest: 105.2241921 (200)\ttotal: 5m 37s\tremaining: 11m 9s\n",
      "300:\tlearn: 0.7050557\ttest: 105.2141879\tbest: 105.2141879 (300)\ttotal: 8m 19s\tremaining: 8m 15s\n",
      "400:\tlearn: 0.6825785\ttest: 105.2063470\tbest: 105.2063470 (400)\ttotal: 10m 59s\tremaining: 5m 27s\n",
      "500:\tlearn: 0.6632228\ttest: 105.1984419\tbest: 105.1984419 (500)\ttotal: 13m 42s\tremaining: 2m 42s\n",
      "599:\tlearn: 0.6458103\ttest: 105.1930298\tbest: 105.1930298 (599)\ttotal: 16m 22s\tremaining: 0us\n",
      "\n",
      "bestTest = 105.1930298\n",
      "bestIteration = 599\n",
      "\n",
      "Fold4:MAE:104.26265356613496\n",
      "Mean Absolute Error 104.53167413875772\n"
     ]
    },
    {
     "name": "stderr",
     "output_type": "stream",
     "text": [
      "Warning: Overfitting detector is active, thus evaluation metric is calculated on every iteration. 'metric_period' is ignored for evaluation metric.\n"
     ]
    },
    {
     "name": "stdout",
     "output_type": "stream",
     "text": [
      "0:\tlearn: 0.9763874\ttest: 105.3276255\tbest: 105.3276255 (0)\ttotal: 3.76s\tremaining: 37m 33s\n",
      "100:\tlearn: 0.7748745\ttest: 105.2472881\tbest: 105.2472881 (100)\ttotal: 2m 53s\tremaining: 14m 18s\n",
      "200:\tlearn: 0.7312248\ttest: 105.2244023\tbest: 105.2243958 (199)\ttotal: 5m 35s\tremaining: 11m 5s\n",
      "300:\tlearn: 0.7013376\ttest: 105.2111379\tbest: 105.2111379 (300)\ttotal: 8m 17s\tremaining: 8m 14s\n",
      "400:\tlearn: 0.6799945\ttest: 105.2035806\tbest: 105.2035806 (400)\ttotal: 12m 18s\tremaining: 6m 6s\n",
      "500:\tlearn: 0.6608167\ttest: 105.1971078\tbest: 105.1970945 (499)\ttotal: 15m 1s\tremaining: 2m 58s\n",
      "599:\tlearn: 0.6457200\ttest: 105.1926314\tbest: 105.1926314 (599)\ttotal: 17m 41s\tremaining: 0us\n",
      "\n",
      "bestTest = 105.1926314\n",
      "bestIteration = 599\n",
      "\n",
      "Fold5:MAE:104.65579595254512\n",
      "Mean Absolute Error 104.5564985015152\n"
     ]
    }
   ],
   "source": [
    "n_splits=5\n",
    "kf=KFold(n_splits=n_splits,shuffle=True,random_state=42)\n",
    "fold_scores=[]\n",
    "models=[]\n",
    "for fold, (train_idx,val_idx) in enumerate(kf.split(X_train)):\n",
    "        X_train_fold,X_val_fold=X_train.iloc[train_idx],X_train.iloc[val_idx]\n",
    "        y_train_fold,y_val_fold=y_train.iloc[train_idx],y_train.iloc[val_idx]\n",
    "        \n",
    "        model=CatBoostRegressor(**params,cat_features=cat_features,metric_period=100)\n",
    "        model.fit(X_train_fold,np.log1p(y_train_fold),use_best_model=True,eval_set=(X_val,y_val))\n",
    "        \n",
    "        y_pred_fold=model.predict(X_val_fold)\n",
    "        \n",
    "        fold_mae=np.mean(np.abs(y_val_fold-y_pred_fold))\n",
    "        \n",
    "        fold_scores.append(fold_mae)\n",
    "        models.append(model)\n",
    "        print(f\"Fold{fold+1}:MAE:{fold_mae}\")\n",
    "        \n",
    "        mean_mae=np.mean(fold_scores)\n",
    "        \n",
    "        print('Mean Absolute Error',mean_mae)\n",
    "        cb_predictions+=model.predict(test_re)/n_splits"
   ]
  },
  {
   "cell_type": "code",
   "execution_count": 42,
   "id": "c63a9b39",
   "metadata": {},
   "outputs": [
    {
     "data": {
      "text/plain": [
       "array([3.99773303, 4.77577325, 4.88339871, ..., 5.26582309, 4.72329975,\n",
       "       3.65690411])"
      ]
     },
     "execution_count": 42,
     "metadata": {},
     "output_type": "execute_result"
    }
   ],
   "source": [
    "cb_predictions"
   ]
  },
  {
   "cell_type": "code",
   "execution_count": 43,
   "id": "c15f1dc4",
   "metadata": {},
   "outputs": [
    {
     "data": {
      "text/plain": [
       "array([ 54.47451805, 118.60198762, 132.07879887, ..., 193.60559811,\n",
       "       112.53899096,  38.74121853])"
      ]
     },
     "execution_count": 43,
     "metadata": {},
     "output_type": "execute_result"
    }
   ],
   "source": [
    "np.exp(cb_predictions)"
   ]
  },
  {
   "cell_type": "code",
   "execution_count": 102,
   "id": "838d50c3",
   "metadata": {},
   "outputs": [],
   "source": [
    "#predictions=lgb_predictions\n",
    "#predictions=cb_predictions\n",
    "#predictions=(lgb_predictions+cb_predictions)/2\n",
    "predictions=0.8*(lgb_predictions)+0.2*(cb_predictions)"
   ]
  },
  {
   "cell_type": "markdown",
   "id": "b2c0bc58",
   "metadata": {},
   "source": [
    "## Submission"
   ]
  },
  {
   "cell_type": "code",
   "execution_count": null,
   "id": "cc5b0f47",
   "metadata": {},
   "outputs": [],
   "source": [
    "test1=pd.read_csv(\"/kaggle/input/rohlik-sales-forecasting-challenge-v2/sales_test.csv\")"
   ]
  },
  {
   "cell_type": "code",
   "execution_count": 103,
   "id": "d4c7fb05",
   "metadata": {},
   "outputs": [],
   "source": [
    "test1=pd.read_csv(\"D:\\Kaggle competition\\Rohlik Sales Prediction\\sales_test.csv\")"
   ]
  },
  {
   "cell_type": "code",
   "execution_count": 104,
   "id": "7be05cda",
   "metadata": {},
   "outputs": [],
   "source": [
    "Solution=pd.DataFrame()\n",
    "Solution['id']=test1['unique_id']\n",
    "for i in range(len(Solution)):\n",
    "      Solution['id'][i]=str(Solution['id'][i])+'_'+str(test1['date'][i])\n",
    "\n"
   ]
  },
  {
   "cell_type": "code",
   "execution_count": null,
   "id": "8e2a9f5b",
   "metadata": {},
   "outputs": [],
   "source": [
    "Solution.head()"
   ]
  },
  {
   "cell_type": "code",
   "execution_count": 105,
   "id": "c4b3a7a1",
   "metadata": {},
   "outputs": [],
   "source": [
    "Solution['sales_hat']=np.exp(predictions)"
   ]
  },
  {
   "cell_type": "code",
   "execution_count": 106,
   "id": "01ef9d06",
   "metadata": {},
   "outputs": [],
   "source": [
    "#Solution.to_csv('D:\\Kaggle competition\\Rohlik Sales Prediction\\Solution_lgb.csv',index=False,header=True)\n",
    "#Solution.to_csv('D:\\Kaggle competition\\Rohlik Sales Prediction\\Solution_cb.csv',index=False,header=True)\n",
    "Solution.to_csv('D:\\Kaggle competition\\Rohlik Sales Prediction\\Solution_lgbcb3_1.csv',index=False,header=True)"
   ]
  },
  {
   "cell_type": "code",
   "execution_count": null,
   "id": "c3ef4fde",
   "metadata": {},
   "outputs": [],
   "source": []
  }
 ],
 "metadata": {
  "kaggle": {
   "accelerator": "none",
   "dataSources": [
    {
     "databundleVersionId": 10173359,
     "sourceId": 88742,
     "sourceType": "competition"
    }
   ],
   "dockerImageVersionId": 30839,
   "isGpuEnabled": false,
   "isInternetEnabled": true,
   "language": "python",
   "sourceType": "notebook"
  },
  "kernelspec": {
   "display_name": "Python 3 (ipykernel)",
   "language": "python",
   "name": "python3"
  },
  "language_info": {
   "codemirror_mode": {
    "name": "ipython",
    "version": 3
   },
   "file_extension": ".py",
   "mimetype": "text/x-python",
   "name": "python",
   "nbconvert_exporter": "python",
   "pygments_lexer": "ipython3",
   "version": "3.10.9"
  }
 },
 "nbformat": 4,
 "nbformat_minor": 5
}
